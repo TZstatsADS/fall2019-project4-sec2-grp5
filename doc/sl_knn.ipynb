{
 "cells": [
  {
   "cell_type": "markdown",
   "metadata": {},
   "source": [
    "# Package"
   ]
  },
  {
   "cell_type": "code",
   "execution_count": 2,
   "metadata": {},
   "outputs": [],
   "source": [
    "import pandas as pd\n",
    "import numpy as np\n",
    "#from sklearn.neighbors import NearestNeighbors\n",
    "from numpy import array\n",
    "from numpy.linalg import norm"
   ]
  },
  {
   "cell_type": "markdown",
   "metadata": {},
   "source": [
    "# Functions\n"
   ]
  },
  {
   "cell_type": "code",
   "execution_count": 5,
   "metadata": {},
   "outputs": [],
   "source": [
    "def movieId_by_urserId(userid):\n",
    "    \"\"\"\n",
    "    Input\n",
    "    -----\n",
    "        userid:int\n",
    "    Return\n",
    "    -----\n",
    "    a list of movie id that rated by given user\"\"\"\n",
    "    return list(rating[rating['userId'] == userid]['movieId'])"
   ]
  },
  {
   "cell_type": "markdown",
   "metadata": {},
   "source": [
    "# Data"
   ]
  },
  {
   "cell_type": "code",
   "execution_count": 6,
   "metadata": {},
   "outputs": [],
   "source": [
    "#result = pyreadr.read_r('../output/mat_fac.RData') \n",
    "#p = pd.read_csv('../output/p.csv')\n",
    "#rmse = pd.read_csv('../data/rmse.csv')\n",
    "q = pd.read_csv('../output/q.csv')\n",
    "rating = pd.read_csv('../data/ml-latest-small/ratings.csv')"
   ]
  },
  {
   "cell_type": "code",
   "execution_count": 10,
   "metadata": {},
   "outputs": [
    {
     "data": {
      "text/html": [
       "<div>\n",
       "<style scoped>\n",
       "    .dataframe tbody tr th:only-of-type {\n",
       "        vertical-align: middle;\n",
       "    }\n",
       "\n",
       "    .dataframe tbody tr th {\n",
       "        vertical-align: top;\n",
       "    }\n",
       "\n",
       "    .dataframe thead th {\n",
       "        text-align: right;\n",
       "    }\n",
       "</style>\n",
       "<table border=\"1\" class=\"dataframe\">\n",
       "  <thead>\n",
       "    <tr style=\"text-align: right;\">\n",
       "      <th></th>\n",
       "      <th>Unnamed: 0</th>\n",
       "      <th>1</th>\n",
       "      <th>2</th>\n",
       "      <th>3</th>\n",
       "      <th>4</th>\n",
       "      <th>5</th>\n",
       "      <th>6</th>\n",
       "      <th>7</th>\n",
       "      <th>8</th>\n",
       "      <th>9</th>\n",
       "      <th>...</th>\n",
       "      <th>193565</th>\n",
       "      <th>193567</th>\n",
       "      <th>193571</th>\n",
       "      <th>193573</th>\n",
       "      <th>193579</th>\n",
       "      <th>193581</th>\n",
       "      <th>193583</th>\n",
       "      <th>193585</th>\n",
       "      <th>193587</th>\n",
       "      <th>193609</th>\n",
       "    </tr>\n",
       "  </thead>\n",
       "  <tbody>\n",
       "    <tr>\n",
       "      <td>0</td>\n",
       "      <td>1</td>\n",
       "      <td>0.565178</td>\n",
       "      <td>0.717229</td>\n",
       "      <td>0.778567</td>\n",
       "      <td>0.625927</td>\n",
       "      <td>0.842650</td>\n",
       "      <td>-0.002214</td>\n",
       "      <td>0.623139</td>\n",
       "      <td>0.468605</td>\n",
       "      <td>0.365189</td>\n",
       "      <td>...</td>\n",
       "      <td>0.225377</td>\n",
       "      <td>0.058500</td>\n",
       "      <td>-0.336207</td>\n",
       "      <td>-0.634299</td>\n",
       "      <td>-0.611499</td>\n",
       "      <td>-0.944203</td>\n",
       "      <td>-0.860104</td>\n",
       "      <td>-0.845497</td>\n",
       "      <td>-0.395947</td>\n",
       "      <td>0.430513</td>\n",
       "    </tr>\n",
       "    <tr>\n",
       "      <td>1</td>\n",
       "      <td>2</td>\n",
       "      <td>-0.638644</td>\n",
       "      <td>-0.751574</td>\n",
       "      <td>-0.901851</td>\n",
       "      <td>-0.026124</td>\n",
       "      <td>-0.749025</td>\n",
       "      <td>-0.669877</td>\n",
       "      <td>-0.226928</td>\n",
       "      <td>-0.340599</td>\n",
       "      <td>-1.100166</td>\n",
       "      <td>...</td>\n",
       "      <td>-0.369489</td>\n",
       "      <td>-0.021417</td>\n",
       "      <td>0.220290</td>\n",
       "      <td>0.478876</td>\n",
       "      <td>-1.077273</td>\n",
       "      <td>0.382798</td>\n",
       "      <td>-0.213710</td>\n",
       "      <td>-0.816581</td>\n",
       "      <td>0.230590</td>\n",
       "      <td>-0.584523</td>\n",
       "    </tr>\n",
       "  </tbody>\n",
       "</table>\n",
       "<p>2 rows × 9725 columns</p>\n",
       "</div>"
      ],
      "text/plain": [
       "   Unnamed: 0         1         2         3         4         5         6  \\\n",
       "0           1  0.565178  0.717229  0.778567  0.625927  0.842650 -0.002214   \n",
       "1           2 -0.638644 -0.751574 -0.901851 -0.026124 -0.749025 -0.669877   \n",
       "\n",
       "          7         8         9  ...    193565    193567    193571    193573  \\\n",
       "0  0.623139  0.468605  0.365189  ...  0.225377  0.058500 -0.336207 -0.634299   \n",
       "1 -0.226928 -0.340599 -1.100166  ... -0.369489 -0.021417  0.220290  0.478876   \n",
       "\n",
       "     193579    193581    193583    193585    193587    193609  \n",
       "0 -0.611499 -0.944203 -0.860104 -0.845497 -0.395947  0.430513  \n",
       "1 -1.077273  0.382798 -0.213710 -0.816581  0.230590 -0.584523  \n",
       "\n",
       "[2 rows x 9725 columns]"
      ]
     },
     "execution_count": 10,
     "metadata": {},
     "output_type": "execute_result"
    }
   ],
   "source": [
    "q.head(2)#movie"
   ]
  },
  {
   "cell_type": "code",
   "execution_count": 15,
   "metadata": {},
   "outputs": [],
   "source": [
    "movie_index = list(q.columns[1:]) #list of all movie index,str\n",
    "movie_index_int = [int(val) for val in movie_index] #int form of movie_index\n",
    "userId = set(rating['userId'])\n",
    "\n",
    "\n",
    "# Vj_index = ['1'] # list of given movie index\n",
    "# movie_index_sub = [item for item in movie_index if item not in Vj_index] #list of movie indexs except the comparied one"
   ]
  },
  {
   "cell_type": "code",
   "execution_count": null,
   "metadata": {},
   "outputs": [],
   "source": [
    "Vj_index = ['1'] # list of given movie index\n",
    "movie_index_sub = [item for item in movie_index if item not in Vj_index] #list of movie indexs except the comparied one"
   ]
  },
  {
   "cell_type": "code",
   "execution_count": 129,
   "metadata": {},
   "outputs": [
    {
     "name": "stdout",
     "output_type": "stream",
     "text": [
      "5125\n"
     ]
    }
   ],
   "source": [
    "l_latent_movie = []\n",
    "for i in movie_index_sub:\n",
    "   # print(i,type(i)) 2，str\n",
    "    numerator =array([val\n",
    "                  for sublist in np.asarray(q[[Vj_index[0]]]).tolist()\n",
    "                  for val in sublist]).dot(array([val\n",
    "                  for sublist in np.asarray(q[[i]]).tolist()\n",
    "                  for val in sublist]))\n",
    "    \n",
    "    cosin_s = numerator/(norm([val\n",
    "                  for sublist in np.asarray(q[[Vj_index[0]]]).tolist()\n",
    "                  for val in sublist])*norm([val\n",
    "                  for sublist in np.asarray(q[[i]]).tolist()\n",
    "                  for val in sublist]))\n",
    "    l_latent_movie.append(cosin_s)\n",
    "    \n",
    "index_min = np.argmin(l_latent_movie) #find the index of min value\n",
    "\n",
    "# if int(Vj_index[0]) > index_min: \n",
    "#     index_similar = index_min\n",
    "# else:\n",
    "#     index_similar = index_min+1 #+1 would be the real index of that similar movie\n",
    "    \n",
    "# print(index_similar)"
   ]
  },
  {
   "cell_type": "code",
   "execution_count": null,
   "metadata": {},
   "outputs": [],
   "source": []
  },
  {
   "cell_type": "markdown",
   "metadata": {},
   "source": [
    "# scrachwork"
   ]
  },
  {
   "cell_type": "code",
   "execution_count": 54,
   "metadata": {},
   "outputs": [],
   "source": [
    "#q.as_matrix(columns=q.columns[1:2]).dot(q.as_matrix(columns=q.columns[2:3]))"
   ]
  },
  {
   "cell_type": "code",
   "execution_count": 123,
   "metadata": {},
   "outputs": [],
   "source": [
    "l_latent_movie = []\n",
    "movie_index = q.columns[1:]\n",
    "# for i in range(len(q.columns[1:])):\n",
    "#     print(array([val\n",
    "#                   for sublist in np.asarray(q[[movie_index[i+1]]]).tolist()\n",
    "#                   for val in sublist]).dot(array([val\n",
    "#                   for sublist in np.asarray(q[[movie_index[i+2]]]).tolist()\n",
    "#                   for val in sublist])))\n",
    "#     #j = i+1\n",
    "#     l_latent_movie.append(array([val\n",
    "#                   for sublist in np.asarray(q[[movie_index[i+1]]]).tolist()\n",
    "#                   for val in sublist]).dot(array([val\n",
    "#                   for sublist in np.asarray(q[[movie_index[i+2]]]).tolist()\n",
    "#                   for val in sublist])))"
   ]
  },
  {
   "cell_type": "code",
   "execution_count": null,
   "metadata": {},
   "outputs": [],
   "source": []
  },
  {
   "cell_type": "code",
   "execution_count": null,
   "metadata": {},
   "outputs": [],
   "source": []
  },
  {
   "cell_type": "code",
   "execution_count": null,
   "metadata": {},
   "outputs": [],
   "source": []
  },
  {
   "cell_type": "code",
   "execution_count": 4,
   "metadata": {},
   "outputs": [
    {
     "data": {
      "text/html": [
       "<div>\n",
       "<style scoped>\n",
       "    .dataframe tbody tr th:only-of-type {\n",
       "        vertical-align: middle;\n",
       "    }\n",
       "\n",
       "    .dataframe tbody tr th {\n",
       "        vertical-align: top;\n",
       "    }\n",
       "\n",
       "    .dataframe thead th {\n",
       "        text-align: right;\n",
       "    }\n",
       "</style>\n",
       "<table border=\"1\" class=\"dataframe\">\n",
       "  <thead>\n",
       "    <tr style=\"text-align: right;\">\n",
       "      <th></th>\n",
       "      <th>Unnamed: 0</th>\n",
       "      <th>train_test</th>\n",
       "      <th>par</th>\n",
       "      <th>epoch</th>\n",
       "      <th>RMSE</th>\n",
       "    </tr>\n",
       "  </thead>\n",
       "  <tbody>\n",
       "    <tr>\n",
       "      <th>0</th>\n",
       "      <td>1</td>\n",
       "      <td>Train</td>\n",
       "      <td>f =  10 , lambda =  0.01</td>\n",
       "      <td>1</td>\n",
       "      <td>0.825492</td>\n",
       "    </tr>\n",
       "    <tr>\n",
       "      <th>1</th>\n",
       "      <td>2</td>\n",
       "      <td>Train</td>\n",
       "      <td>f =  20 , lambda =  0.01</td>\n",
       "      <td>1</td>\n",
       "      <td>0.792257</td>\n",
       "    </tr>\n",
       "    <tr>\n",
       "      <th>2</th>\n",
       "      <td>3</td>\n",
       "      <td>Train</td>\n",
       "      <td>f =  10 , lambda =  0.1</td>\n",
       "      <td>1</td>\n",
       "      <td>0.896950</td>\n",
       "    </tr>\n",
       "    <tr>\n",
       "      <th>3</th>\n",
       "      <td>4</td>\n",
       "      <td>Train</td>\n",
       "      <td>f =  20 , lambda =  0.1</td>\n",
       "      <td>1</td>\n",
       "      <td>0.859586</td>\n",
       "    </tr>\n",
       "    <tr>\n",
       "      <th>4</th>\n",
       "      <td>5</td>\n",
       "      <td>Test</td>\n",
       "      <td>f =  10 , lambda =  0.01</td>\n",
       "      <td>1</td>\n",
       "      <td>1.313171</td>\n",
       "    </tr>\n",
       "  </tbody>\n",
       "</table>\n",
       "</div>"
      ],
      "text/plain": [
       "   Unnamed: 0 train_test                       par  epoch      RMSE\n",
       "0           1      Train  f =  10 , lambda =  0.01      1  0.825492\n",
       "1           2      Train  f =  20 , lambda =  0.01      1  0.792257\n",
       "2           3      Train   f =  10 , lambda =  0.1      1  0.896950\n",
       "3           4      Train   f =  20 , lambda =  0.1      1  0.859586\n",
       "4           5       Test  f =  10 , lambda =  0.01      1  1.313171"
      ]
     },
     "execution_count": 4,
     "metadata": {},
     "output_type": "execute_result"
    }
   ],
   "source": [
    "rmse.head()"
   ]
  },
  {
   "cell_type": "code",
   "execution_count": 8,
   "metadata": {},
   "outputs": [],
   "source": [
    "import numpy as np\n",
    "from sklearn.neighbors import NearestNeighbors\n",
    "samples = [[0, 0, 2], [1, 0, 0], [0, 0, 1]]"
   ]
  },
  {
   "cell_type": "code",
   "execution_count": 13,
   "metadata": {},
   "outputs": [
    {
     "data": {
      "text/plain": [
       "NearestNeighbors(algorithm='auto', leaf_size=30, metric='cosine',\n",
       "                 metric_params=None, n_jobs=None, n_neighbors=2, p=2,\n",
       "                 radius=0.4)"
      ]
     },
     "execution_count": 13,
     "metadata": {},
     "output_type": "execute_result"
    }
   ],
   "source": [
    "neigh = NearestNeighbors(2, 0.4,metric='cosine')\n",
    "neigh.fit(samples)"
   ]
  },
  {
   "cell_type": "code",
   "execution_count": 14,
   "metadata": {},
   "outputs": [],
   "source": [
    "#class sklearn.neighbors.NearestNeighbors(n_neighbors=5, radius=1.0, algorithm=’auto’, leaf_size=30,\n",
    "#metric=’minkowski’, p=2, metric_params=None, n_jobs=None, **kwargs)"
   ]
  },
  {
   "cell_type": "code",
   "execution_count": 15,
   "metadata": {},
   "outputs": [
    {
     "ename": "AttributeError",
     "evalue": "'NearestNeighbors' object has no attribute 'predict'",
     "output_type": "error",
     "traceback": [
      "\u001b[0;31m---------------------------------------------------------------------------\u001b[0m",
      "\u001b[0;31mAttributeError\u001b[0m                            Traceback (most recent call last)",
      "\u001b[0;32m<ipython-input-15-e2e24d29f4b1>\u001b[0m in \u001b[0;36m<module>\u001b[0;34m\u001b[0m\n\u001b[0;32m----> 1\u001b[0;31m \u001b[0mneigh\u001b[0m\u001b[0;34m.\u001b[0m\u001b[0mpredict\u001b[0m\u001b[0;34m(\u001b[0m\u001b[0;34m[\u001b[0m\u001b[0;36m0\u001b[0m\u001b[0;34m,\u001b[0m\u001b[0;36m0\u001b[0m\u001b[0;34m,\u001b[0m\u001b[0;36m5\u001b[0m\u001b[0;34m]\u001b[0m\u001b[0;34m)\u001b[0m\u001b[0;34m\u001b[0m\u001b[0;34m\u001b[0m\u001b[0m\n\u001b[0m",
      "\u001b[0;31mAttributeError\u001b[0m: 'NearestNeighbors' object has no attribute 'predict'"
     ]
    }
   ],
   "source": [
    "neigh.predict([0,0,5])"
   ]
  },
  {
   "cell_type": "code",
   "execution_count": null,
   "metadata": {},
   "outputs": [],
   "source": []
  }
 ],
 "metadata": {
  "kernelspec": {
   "display_name": "Python 3",
   "language": "python",
   "name": "python3"
  },
  "language_info": {
   "codemirror_mode": {
    "name": "ipython",
    "version": 3
   },
   "file_extension": ".py",
   "mimetype": "text/x-python",
   "name": "python",
   "nbconvert_exporter": "python",
   "pygments_lexer": "ipython3",
   "version": "3.7.3"
  }
 },
 "nbformat": 4,
 "nbformat_minor": 2
}

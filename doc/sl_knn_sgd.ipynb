{
 "cells": [
  {
   "cell_type": "markdown",
   "metadata": {},
   "source": [
    "# Package"
   ]
  },
  {
   "cell_type": "code",
   "execution_count": 1,
   "metadata": {},
   "outputs": [],
   "source": [
    "import numpy as np\n",
    "from sklearn.metrics import pairwise_distances\n",
    "from scipy.spatial.distance import cosine"
   ]
  },
  {
   "cell_type": "code",
   "execution_count": 2,
   "metadata": {},
   "outputs": [],
   "source": [
    "import pandas as pd\n",
    "import numpy as np\n",
    "#from sklearn.neighbors import NearestNeighbors\n",
    "from numpy import array\n",
    "from numpy.linalg import norm\n",
    "\n",
    "from operator import itemgetter\n",
    "import timeit"
   ]
  },
  {
   "cell_type": "markdown",
   "metadata": {},
   "source": [
    "# Functions\n"
   ]
  },
  {
   "cell_type": "code",
   "execution_count": 3,
   "metadata": {},
   "outputs": [],
   "source": [
    "def Average(lst): \n",
    "    return sum(lst) / len(lst) "
   ]
  },
  {
   "cell_type": "code",
   "execution_count": 4,
   "metadata": {},
   "outputs": [],
   "source": [
    "def rmse(predictions, targets):\n",
    "    return np.sqrt(((predictions - targets) ** 2).mean())"
   ]
  },
  {
   "cell_type": "code",
   "execution_count": 5,
   "metadata": {},
   "outputs": [],
   "source": [
    "def pq_check_rate(test_movie_id,df,userid):\n",
    "    \"\"\"\n",
    "    Input\n",
    "    ----\n",
    "        df: df_pq\"\"\"\n",
    "    \n",
    "    user_index = b_user_dic.get(str(userid))\n",
    "    \n",
    "    movie_index =b_item_dic.get(str(test_movie_id))\n",
    "    \n",
    "    rating_predict = df[user_index][movie_index]\n",
    "    return rating_predict"
   ]
  },
  {
   "cell_type": "code",
   "execution_count": 6,
   "metadata": {},
   "outputs": [],
   "source": [
    "def item_check_value(test_movie_id,mat):\n",
    "    \"\"\"\n",
    "    Input\n",
    "    ----\n",
    "        mat: b_item,matrix\n",
    "    Return\n",
    "    -----\n",
    "        a float\"\"\"\n",
    "    \n",
    "    #user_index = b_user_dic.get(str(userid))\n",
    "    \n",
    "    movie_index =b_item_dic.get(str(test_movie_id))\n",
    "    \n",
    "    value_predict = mat[0][movie_index]\n",
    "    return value_predict"
   ]
  },
  {
   "cell_type": "code",
   "execution_count": 7,
   "metadata": {},
   "outputs": [],
   "source": [
    "def user_check_value(userid,mat):\n",
    "    \"\"\"\n",
    "    Input\n",
    "    ----\n",
    "        mat: b_user,matrix\"\"\"\n",
    "    \n",
    "    user_index = b_user_dic.get(str(userid))\n",
    "    \n",
    "    #movie_index =b_item_dic.get(str(test_movie_id))\n",
    "    \n",
    "    value_predict = mat[0][user_index]\n",
    "    return value_predict"
   ]
  },
  {
   "cell_type": "code",
   "execution_count": 8,
   "metadata": {},
   "outputs": [],
   "source": [
    "def time_check_value(test_movie_id,df,time_bin):\n",
    "    \"\"\"\n",
    "    Input\n",
    "    ----\n",
    "        mat: b_time\"\"\"\n",
    "    #print(test_movie_id,time_bin)\n",
    "    time_index = b_time_dic.get(str(time_bin))\n",
    "    #print(time_bin,time_index)\n",
    "    \n",
    "    movie_index =b_item_dic.get(str(test_movie_id))\n",
    "    \n",
    "    \n",
    "    rating_predict = df[time_index][movie_index]\n",
    "    return rating_predict"
   ]
  },
  {
   "cell_type": "code",
   "execution_count": 9,
   "metadata": {},
   "outputs": [],
   "source": [
    "def pariwise_cosin(q):\n",
    "    \"\"\"\n",
    "    Input\n",
    "    -----\n",
    "        q: q.csv\n",
    "    Return\n",
    "    -----\n",
    "        \"\"\"\n",
    "    \n",
    "#     q_matrix = q.copy()\n",
    "#     q_matrix = q_matrix.values\n",
    "    \n",
    "#     q_knn_matrix = q_matrix.T\n",
    "    \n",
    "    return 1-pairwise_distances(q.values.T, metric=\"cosine\")"
   ]
  },
  {
   "cell_type": "code",
   "execution_count": 10,
   "metadata": {},
   "outputs": [],
   "source": [
    "def pair_cos_id (test_movie_id):\n",
    "    \"\"\"\n",
    "    Input\n",
    "    -----\n",
    "        test_movie_id:int\n",
    "        pair_cos_q: nparray, pair_cosin_q (global var)\n",
    "    Return\n",
    "    -----\n",
    "        list with index of nearst movie,id of nearest movie\"\"\"\n",
    "    test_movie_index = b_item_dic.get(str(test_movie_id))\n",
    "    df_cos = pd.DataFrame(pair_cos_q)\n",
    "    \n",
    "    \n",
    "    high_2_info = df_cos[test_movie_index].nlargest(2)\n",
    "    knn_near_index = np.where(df_cos[test_movie_index] == high_2_info.values[1])[0][0]\n",
    "    \n",
    "    #knn_movie_id = b_item_dic.get(str(test_movie_id))\n",
    "    knn_movie_id  = list(b_item_dic.keys())[list(b_item_dic.values()).index(knn_near_index)] \n",
    "    #[knn_near_index,int(knn_movie_id)]\n",
    "    return int(knn_movie_id)"
   ]
  },
  {
   "cell_type": "code",
   "execution_count": 11,
   "metadata": {},
   "outputs": [],
   "source": [
    "def avg_rating_train_look_up(movie_id_int):\n",
    "    \"\"\"\n",
    "    Global variable\n",
    "    ------\n",
    "        df_data_train:after groupby mean and reset index\n",
    "        \n",
    "    Return\n",
    "    ------\n",
    "        rating\"\"\"\n",
    "    #print(df_data_train[df_data_train['movieId'] == movie_id_int])\n",
    "    \n",
    "    return rating[rating['movieId'] == movie_id_int]['rating'].values[0]"
   ]
  },
  {
   "cell_type": "code",
   "execution_count": 12,
   "metadata": {},
   "outputs": [],
   "source": [
    "def main_get_rating_knn(test_movie_id):\n",
    "    \"\"\"\n",
    "    Global var\n",
    "    ------\n",
    "        pair_cos_q\n",
    "        df_data_train\n",
    "    \n",
    "    Return\n",
    "    -----\n",
    "        Get KNN rating \"\"\"\n",
    "    nearest_movie_id = pair_cos_id(test_movie_id)\n",
    "    #print(nearest_movie_id)\n",
    "    avg_rating_nearest_movie_id = avg_rating_train_look_up(nearest_movie_id)\n",
    "    #print(avg_rating_nearest_movie_id)\n",
    "    \n",
    "    \n",
    "    return avg_rating_nearest_movie_id\n",
    "    "
   ]
  },
  {
   "cell_type": "code",
   "execution_count": 13,
   "metadata": {},
   "outputs": [],
   "source": [
    "def b_time_user(user_id):\n",
    "    rating_user = rating[rating['userId'] == user_id]\n",
    "    rating_group = rating_user[['userId','movieId','bin_num']].values\n",
    "    \n",
    "    user_time_movie_list = []\n",
    "    for j, pair in enumerate(rating_group):\n",
    "        user_time_movie_list.append((time_check_value(pair[1],b_time,pair[2])))\n",
    "    return user_time_movie_list\n",
    "    #time_check_value(test_movie_id,df,time_bin)\n",
    "    #b_item_col_qiqi.append(b_item_col_qiqi)\n"
   ]
  },
  {
   "cell_type": "markdown",
   "metadata": {},
   "source": [
    "# Data"
   ]
  },
  {
   "cell_type": "code",
   "execution_count": 27,
   "metadata": {},
   "outputs": [],
   "source": [
    "#result = pyreadr.read_r('../output/mat_fac.RData') \n",
    "p = pd.read_csv('../output/p_5.csv',index_col='Unnamed: 0')\n",
    "#rmse = pd.read_csv('../data/rmse.csv')\n",
    "q = pd.read_csv('../output/q_5.csv',index_col='Unnamed: 0') #movie latent values\n",
    "#rating = pd.read_csv('../data/ml-latest-small/ratings.csv')\n",
    "rating = pd.read_csv('../output/data_bin.csv',index_col = 'Unnamed: 0')\n",
    "data_train = pd.read_csv('../output/data_train_add.csv',index_col='Unnamed: 0')\n",
    "data_test = pd.read_csv('../output/data_test.csv',index_col='Unnamed: 0')\n",
    "\n",
    "b_item = pd.read_csv('../output/b_item.csv',index_col='Unnamed: 0')\n",
    "b_time = pd.read_csv('../output/b_time.csv',index_col='Unnamed: 0')\n",
    "b_user = pd.read_csv('../output/b_user.csv',index_col='Unnamed: 0')"
   ]
  },
  {
   "cell_type": "code",
   "execution_count": 28,
   "metadata": {
    "scrolled": true
   },
   "outputs": [
    {
     "data": {
      "text/html": [
       "<div>\n",
       "<style scoped>\n",
       "    .dataframe tbody tr th:only-of-type {\n",
       "        vertical-align: middle;\n",
       "    }\n",
       "\n",
       "    .dataframe tbody tr th {\n",
       "        vertical-align: top;\n",
       "    }\n",
       "\n",
       "    .dataframe thead th {\n",
       "        text-align: right;\n",
       "    }\n",
       "</style>\n",
       "<table border=\"1\" class=\"dataframe\">\n",
       "  <thead>\n",
       "    <tr style=\"text-align: right;\">\n",
       "      <th></th>\n",
       "      <th>1</th>\n",
       "      <th>2</th>\n",
       "      <th>3</th>\n",
       "      <th>4</th>\n",
       "      <th>5</th>\n",
       "      <th>6</th>\n",
       "      <th>7</th>\n",
       "      <th>8</th>\n",
       "      <th>9</th>\n",
       "      <th>10</th>\n",
       "      <th>...</th>\n",
       "      <th>193565</th>\n",
       "      <th>193567</th>\n",
       "      <th>193571</th>\n",
       "      <th>193573</th>\n",
       "      <th>193579</th>\n",
       "      <th>193581</th>\n",
       "      <th>193583</th>\n",
       "      <th>193585</th>\n",
       "      <th>193587</th>\n",
       "      <th>193609</th>\n",
       "    </tr>\n",
       "  </thead>\n",
       "  <tbody>\n",
       "    <tr>\n",
       "      <th>1</th>\n",
       "      <td>0.349321</td>\n",
       "      <td>0.479163</td>\n",
       "      <td>0.384223</td>\n",
       "      <td>0.025276</td>\n",
       "      <td>0.13227</td>\n",
       "      <td>-0.051935</td>\n",
       "      <td>0.457440</td>\n",
       "      <td>0.112809</td>\n",
       "      <td>-0.511978</td>\n",
       "      <td>-0.184725</td>\n",
       "      <td>...</td>\n",
       "      <td>-0.507794</td>\n",
       "      <td>0.319298</td>\n",
       "      <td>0.173252</td>\n",
       "      <td>-0.627360</td>\n",
       "      <td>-0.086166</td>\n",
       "      <td>-0.689407</td>\n",
       "      <td>0.008973</td>\n",
       "      <td>-0.895125</td>\n",
       "      <td>0.785424</td>\n",
       "      <td>0.610574</td>\n",
       "    </tr>\n",
       "    <tr>\n",
       "      <th>2</th>\n",
       "      <td>0.360013</td>\n",
       "      <td>0.473371</td>\n",
       "      <td>-0.155633</td>\n",
       "      <td>0.581782</td>\n",
       "      <td>-0.24669</td>\n",
       "      <td>0.092837</td>\n",
       "      <td>-0.221314</td>\n",
       "      <td>0.378532</td>\n",
       "      <td>0.390297</td>\n",
       "      <td>0.451582</td>\n",
       "      <td>...</td>\n",
       "      <td>0.210977</td>\n",
       "      <td>0.550038</td>\n",
       "      <td>0.848716</td>\n",
       "      <td>0.702219</td>\n",
       "      <td>-0.119205</td>\n",
       "      <td>-0.369920</td>\n",
       "      <td>0.260821</td>\n",
       "      <td>0.989860</td>\n",
       "      <td>-0.651592</td>\n",
       "      <td>-0.258197</td>\n",
       "    </tr>\n",
       "  </tbody>\n",
       "</table>\n",
       "<p>2 rows × 9724 columns</p>\n",
       "</div>"
      ],
      "text/plain": [
       "          1         2         3         4        5         6         7  \\\n",
       "1  0.349321  0.479163  0.384223  0.025276  0.13227 -0.051935  0.457440   \n",
       "2  0.360013  0.473371 -0.155633  0.581782 -0.24669  0.092837 -0.221314   \n",
       "\n",
       "          8         9        10    ...       193565    193567    193571  \\\n",
       "1  0.112809 -0.511978 -0.184725    ...    -0.507794  0.319298  0.173252   \n",
       "2  0.378532  0.390297  0.451582    ...     0.210977  0.550038  0.848716   \n",
       "\n",
       "     193573    193579    193581    193583    193585    193587    193609  \n",
       "1 -0.627360 -0.086166 -0.689407  0.008973 -0.895125  0.785424  0.610574  \n",
       "2  0.702219 -0.119205 -0.369920  0.260821  0.989860 -0.651592 -0.258197  \n",
       "\n",
       "[2 rows x 9724 columns]"
      ]
     },
     "execution_count": 28,
     "metadata": {},
     "output_type": "execute_result"
    }
   ],
   "source": [
    "b_time.head(2)#movie id,bin"
   ]
  },
  {
   "cell_type": "markdown",
   "metadata": {},
   "source": [
    "# Processing Data"
   ]
  },
  {
   "cell_type": "code",
   "execution_count": 29,
   "metadata": {},
   "outputs": [],
   "source": [
    "##calculate predict rating matrix\n",
    "b_time_dic = dict(zip(list(b_time.columns),range(len(b_time.columns)))) #id, index\n",
    "b_item_dic = dict(zip(list(b_item.columns),range(len(b_item.columns)))) #id, index\n",
    "b_user_dic = dict(zip(list(b_user.columns),range(len(b_user.columns)))) #id, index\n",
    "\n",
    "p_matrix = p.values\n",
    "q_matrix = q.values\n",
    "b_item = b_item.values\n",
    "b_time = b_time.values\n",
    "b_user = b_user.values\n"
   ]
  },
  {
   "cell_type": "code",
   "execution_count": 30,
   "metadata": {},
   "outputs": [],
   "source": [
    "mat_pq = q_matrix.T.dot(p_matrix)\n",
    "df_pq = pd.DataFrame(mat_pq)"
   ]
  },
  {
   "cell_type": "code",
   "execution_count": 18,
   "metadata": {},
   "outputs": [],
   "source": [
    "pair_cos_q = pariwise_cosin(q)"
   ]
  },
  {
   "cell_type": "code",
   "execution_count": 20,
   "metadata": {},
   "outputs": [],
   "source": [
    "data_test_sort = data_test.copy()\n",
    "data_test_sort = data_test_sort.sort_values(by=['userId'])\n",
    "\n",
    "userId = list(set(rating['userId'])) #a list of user id, int\n",
    "\n",
    "movie_id = list(q.columns[:]) #list of all movie id,str\n"
   ]
  },
  {
   "cell_type": "code",
   "execution_count": 21,
   "metadata": {},
   "outputs": [
    {
     "data": {
      "text/plain": [
       "84.891855296"
      ]
     },
     "execution_count": 21,
     "metadata": {},
     "output_type": "execute_result"
    }
   ],
   "source": [
    "###for loop for the KNN part, only movie id considered\n",
    "\n",
    "tic=timeit.default_timer()\n",
    "\n",
    "knn_result = []\n",
    "for i, item in enumerate(movie_id): #l_train_movie\n",
    "    #print(i,item,type(i),type(item)) ##0,1 int, int, index, id\n",
    "    #print(main_get_rating_knn(item),item,i)\n",
    "    knn_result.append(main_get_rating_knn(item))\n",
    "    \n",
    "\n",
    "toc=timeit.default_timer()\n",
    "toc - tic #elapsed time in seconds\n",
    "\n",
    "\n"
   ]
  },
  {
   "cell_type": "code",
   "execution_count": 22,
   "metadata": {},
   "outputs": [],
   "source": [
    "dict_knn_id_rating = dict(zip(movie_id,knn_result))"
   ]
  },
  {
   "cell_type": "code",
   "execution_count": 23,
   "metadata": {},
   "outputs": [
    {
     "data": {
      "text/plain": [
       "0.10107748199999378"
      ]
     },
     "execution_count": 23,
     "metadata": {},
     "output_type": "execute_result"
    }
   ],
   "source": [
    "#produce knn col\n",
    "tic=timeit.default_timer()\n",
    "\n",
    "rating_knn_col =[]\n",
    "for i, item in enumerate(rating['movieId']):\n",
    "    #print(i,item,type(i),type(item)) #0,1,int,int, index,id\n",
    "    #根据id 找rating\n",
    "    rating_knn_col.append(dict_knn_id_rating.get(str(item)))\n",
    "toc=timeit.default_timer()\n",
    "toc - tic #elapsed time in seconds\n",
    "\n"
   ]
  },
  {
   "cell_type": "code",
   "execution_count": 24,
   "metadata": {},
   "outputs": [],
   "source": [
    "rating_sub = rating[['userId','movieId','bin_num']].values\n"
   ]
  },
  {
   "cell_type": "code",
   "execution_count": 31,
   "metadata": {},
   "outputs": [
    {
     "data": {
      "text/plain": [
       "3.737251649000001"
      ]
     },
     "execution_count": 31,
     "metadata": {},
     "output_type": "execute_result"
    }
   ],
   "source": [
    "#produce pq col\n",
    "\n",
    "tic=timeit.default_timer()\n",
    "\n",
    "search_col_result = []\n",
    "for i, group in enumerate(rating_sub):\n",
    "    search_col_result.append(pq_check_rate(group[1],df_pq,group[0]))\n",
    "    \n",
    "toc=timeit.default_timer()\n",
    "toc - tic #elapsed time in seconds\n",
    "\n"
   ]
  },
  {
   "cell_type": "code",
   "execution_count": 32,
   "metadata": {},
   "outputs": [
    {
     "data": {
      "text/plain": [
       "0.2993297190000135"
      ]
     },
     "execution_count": 32,
     "metadata": {},
     "output_type": "execute_result"
    }
   ],
   "source": [
    "#produce b_item col\n",
    "\n",
    "tic=timeit.default_timer()\n",
    "\n",
    "b_item_col = []\n",
    "for i, group in enumerate(rating_sub): #userid, movieid\n",
    "    b_item_col.append(item_check_value(group[0],b_item))\n",
    "    \n",
    "toc=timeit.default_timer()\n",
    "toc - tic #elapsed time in seconds\n"
   ]
  },
  {
   "cell_type": "code",
   "execution_count": 33,
   "metadata": {},
   "outputs": [
    {
     "data": {
      "text/plain": [
       "0.31385928399998875"
      ]
     },
     "execution_count": 33,
     "metadata": {},
     "output_type": "execute_result"
    }
   ],
   "source": [
    "#produce b_user col\n",
    "tic=timeit.default_timer()\n",
    "\n",
    "b_user_col = []\n",
    "for i, group in enumerate(rating_sub): #userid, movieid\n",
    "    b_user_col.append(user_check_value(group[0],b_user))\n",
    "    \n",
    "toc=timeit.default_timer()\n",
    "toc - tic #elapsed time in seconds\n",
    "\n"
   ]
  },
  {
   "cell_type": "code",
   "execution_count": 34,
   "metadata": {},
   "outputs": [
    {
     "data": {
      "text/plain": [
       "0.4747125269999799"
      ]
     },
     "execution_count": 34,
     "metadata": {},
     "output_type": "execute_result"
    }
   ],
   "source": [
    "#produce b_time col\n",
    "tic=timeit.default_timer()\n",
    "\n",
    "b_time_col = []\n",
    "for i, group in enumerate(rating_sub): #userid, movieid,time\n",
    "    #print(i,group,'group')\n",
    "    b_time_col.append(time_check_value(group[1],b_time,group[2]))\n",
    "    \n",
    "toc=timeit.default_timer()\n",
    "toc - tic #elapsed time in seconds\n",
    "\n",
    "\n"
   ]
  },
  {
   "cell_type": "code",
   "execution_count": 35,
   "metadata": {},
   "outputs": [],
   "source": [
    "rating_merge = rating.copy()\n",
    "rating_merge['knn'] = rating_knn_col\n",
    "rating_merge['pq'] = search_col_result\n",
    "rating_merge['b_item'] = b_item_col\n",
    "rating_merge['b_user'] = b_user_col\n",
    "rating_merge['b_time'] = b_time_col"
   ]
  },
  {
   "cell_type": "code",
   "execution_count": 36,
   "metadata": {},
   "outputs": [],
   "source": [
    "rating_merge_train = rating_merge[:80670]\n",
    "rating_merge_train.to_csv('rating_merge_train.csv')"
   ]
  },
  {
   "cell_type": "markdown",
   "metadata": {},
   "source": [
    "# check"
   ]
  },
  {
   "cell_type": "code",
   "execution_count": 38,
   "metadata": {},
   "outputs": [
    {
     "data": {
      "text/html": [
       "<div>\n",
       "<style scoped>\n",
       "    .dataframe tbody tr th:only-of-type {\n",
       "        vertical-align: middle;\n",
       "    }\n",
       "\n",
       "    .dataframe tbody tr th {\n",
       "        vertical-align: top;\n",
       "    }\n",
       "\n",
       "    .dataframe thead th {\n",
       "        text-align: right;\n",
       "    }\n",
       "</style>\n",
       "<table border=\"1\" class=\"dataframe\">\n",
       "  <thead>\n",
       "    <tr style=\"text-align: right;\">\n",
       "      <th></th>\n",
       "      <th>userId</th>\n",
       "      <th>movieId</th>\n",
       "      <th>rating</th>\n",
       "      <th>timestamp</th>\n",
       "      <th>bin_num</th>\n",
       "      <th>knn</th>\n",
       "      <th>pq</th>\n",
       "      <th>b_item</th>\n",
       "      <th>b_user</th>\n",
       "      <th>b_time</th>\n",
       "    </tr>\n",
       "  </thead>\n",
       "  <tbody>\n",
       "    <tr>\n",
       "      <th>1</th>\n",
       "      <td>1</td>\n",
       "      <td>1</td>\n",
       "      <td>4.0</td>\n",
       "      <td>964982703</td>\n",
       "      <td>5</td>\n",
       "      <td>4.5</td>\n",
       "      <td>-0.029501</td>\n",
       "      <td>0.149318</td>\n",
       "      <td>0.706148</td>\n",
       "      <td>0.370191</td>\n",
       "    </tr>\n",
       "    <tr>\n",
       "      <th>2</th>\n",
       "      <td>1</td>\n",
       "      <td>3</td>\n",
       "      <td>4.0</td>\n",
       "      <td>964981247</td>\n",
       "      <td>5</td>\n",
       "      <td>4.0</td>\n",
       "      <td>-0.088080</td>\n",
       "      <td>0.149318</td>\n",
       "      <td>0.706148</td>\n",
       "      <td>0.169982</td>\n",
       "    </tr>\n",
       "    <tr>\n",
       "      <th>3</th>\n",
       "      <td>1</td>\n",
       "      <td>6</td>\n",
       "      <td>4.0</td>\n",
       "      <td>964982224</td>\n",
       "      <td>5</td>\n",
       "      <td>4.0</td>\n",
       "      <td>-0.017634</td>\n",
       "      <td>0.149318</td>\n",
       "      <td>0.706148</td>\n",
       "      <td>0.005806</td>\n",
       "    </tr>\n",
       "    <tr>\n",
       "      <th>4</th>\n",
       "      <td>1</td>\n",
       "      <td>47</td>\n",
       "      <td>5.0</td>\n",
       "      <td>964983815</td>\n",
       "      <td>5</td>\n",
       "      <td>3.5</td>\n",
       "      <td>0.028836</td>\n",
       "      <td>0.149318</td>\n",
       "      <td>0.706148</td>\n",
       "      <td>-0.045230</td>\n",
       "    </tr>\n",
       "    <tr>\n",
       "      <th>5</th>\n",
       "      <td>1</td>\n",
       "      <td>50</td>\n",
       "      <td>5.0</td>\n",
       "      <td>964982931</td>\n",
       "      <td>5</td>\n",
       "      <td>4.0</td>\n",
       "      <td>-0.002264</td>\n",
       "      <td>0.149318</td>\n",
       "      <td>0.706148</td>\n",
       "      <td>0.425822</td>\n",
       "    </tr>\n",
       "  </tbody>\n",
       "</table>\n",
       "</div>"
      ],
      "text/plain": [
       "   userId  movieId  rating  timestamp  bin_num  knn        pq    b_item  \\\n",
       "1       1        1     4.0  964982703        5  4.5 -0.029501  0.149318   \n",
       "2       1        3     4.0  964981247        5  4.0 -0.088080  0.149318   \n",
       "3       1        6     4.0  964982224        5  4.0 -0.017634  0.149318   \n",
       "4       1       47     5.0  964983815        5  3.5  0.028836  0.149318   \n",
       "5       1       50     5.0  964982931        5  4.0 -0.002264  0.149318   \n",
       "\n",
       "     b_user    b_time  \n",
       "1  0.706148  0.370191  \n",
       "2  0.706148  0.169982  \n",
       "3  0.706148  0.005806  \n",
       "4  0.706148 -0.045230  \n",
       "5  0.706148  0.425822  "
      ]
     },
     "execution_count": 38,
     "metadata": {},
     "output_type": "execute_result"
    }
   ],
   "source": [
    "rating_merge_train.head()"
   ]
  },
  {
   "cell_type": "code",
   "execution_count": 39,
   "metadata": {},
   "outputs": [
    {
     "data": {
      "text/plain": [
       "(80670, 10)"
      ]
     },
     "execution_count": 39,
     "metadata": {},
     "output_type": "execute_result"
    }
   ],
   "source": [
    "rating_merge_train.shape"
   ]
  }
 ],
 "metadata": {
  "kernelspec": {
   "display_name": "Python 3",
   "language": "python",
   "name": "python3"
  },
  "language_info": {
   "codemirror_mode": {
    "name": "ipython",
    "version": 3
   },
   "file_extension": ".py",
   "mimetype": "text/x-python",
   "name": "python",
   "nbconvert_exporter": "python",
   "pygments_lexer": "ipython3",
   "version": "3.7.1"
  }
 },
 "nbformat": 4,
 "nbformat_minor": 2
}

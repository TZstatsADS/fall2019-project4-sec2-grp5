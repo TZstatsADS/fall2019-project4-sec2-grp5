{
 "cells": [
  {
   "cell_type": "code",
   "execution_count": null,
   "metadata": {},
   "outputs": [],
   "source": [
    "def movieId_by_urserId(userid):\n",
    "    \"\"\"\n",
    "    Input\n",
    "    -----\n",
    "        userid:int\n",
    "    Return\n",
    "    -----\n",
    "    a list of movie id that rated by given user\"\"\"\n",
    "    return list(rating[rating['userId'] == userid]['movieId'])"
   ]
  }
 ],
 "metadata": {
  "kernelspec": {
   "display_name": "Python 3",
   "language": "python",
   "name": "python3"
  },
  "language_info": {
   "codemirror_mode": {
    "name": "ipython",
    "version": 3
   },
   "file_extension": ".py",
   "mimetype": "text/x-python",
   "name": "python",
   "nbconvert_exporter": "python",
   "pygments_lexer": "ipython3",
   "version": "3.7.3"
  }
 },
 "nbformat": 4,
 "nbformat_minor": 2
}

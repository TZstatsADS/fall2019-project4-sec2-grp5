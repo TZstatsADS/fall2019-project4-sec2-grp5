{
 "cells": [
  {
   "cell_type": "code",
   "execution_count": null,
   "metadata": {},
   "outputs": [],
   "source": [
    "def movieId_by_urserId(userid,df):\n",
    "    \"\"\"\n",
    "    Input\n",
    "    -----\n",
    "        userid:int\n",
    "        df:dataframe of train/test rating csv\n",
    "    Return\n",
    "    -----\n",
    "    a list of movie id that rated by given user\"\"\"\n",
    "    return list(df[df['userId'] == userid]['movieId'])"
   ]
  },
  {
   "cell_type": "code",
   "execution_count": null,
   "metadata": {},
   "outputs": [],
   "source": [
    "def search_rating_user_id(userid,movieid):\n",
    "    \"\"\"\n",
    "    Input\n",
    "    ---\n",
    "    userid:int, represent userid\n",
    "    movieid:int, represent movieid (closest id that rated by given user)\"\"\"\n",
    "    return rating[(rating['userId'] == userid) & (rating['movieId'] == movieid)]['rating']"
   ]
  },
  {
   "cell_type": "code",
   "execution_count": null,
   "metadata": {},
   "outputs": [],
   "source": [
    "def cosine_similarity (test_movie_id,userid):\n",
    "    \"\"\"\n",
    "    Global variable\n",
    "    ------\n",
    "        data_train: train part of rating.csv\n",
    "        \n",
    "    Input\n",
    "    -----\n",
    "        test_movie_id: the id of movie that want to test,str. for testing purpose should also match same user\n",
    "        user_id: user id,int\n",
    "    Return\n",
    "    \n",
    "    ----\n",
    "        \"\"\"\n",
    "    #############\n",
    "    #list of movie id for given user in train,int\n",
    "    train_movieid_given_user = movieId_by_urserId(userid,data_train)\n",
    "    #list of movie id for given user in train,str\n",
    "    train_movieid_given_user_str = [str(val) for val in train_movieid_given_user]\n",
    "    \n",
    "    \n",
    "    ###########\n",
    "    \n",
    "    \n",
    "    l_latent_movie = []\n",
    "    movie_cos_dic = {}\n",
    "    for movie in train_movieid_given_user_str:\n",
    "        #print(movie,type(movie)) #2，str\n",
    "\n",
    "        numerator =array([val\n",
    "                      for sublist in np.asarray(q[[test_movie_id]]).tolist()\n",
    "                      for val in sublist]).dot(array([val\n",
    "                      for sublist in np.asarray(q[[movie]]).tolist()\n",
    "                      for val in sublist]))\n",
    "\n",
    "        cosin_s = numerator/(norm([val\n",
    "                      for sublist in np.asarray(q[[test_movie_id]]).tolist()\n",
    "                      for val in sublist])*norm([val\n",
    "                      for sublist in np.asarray(q[[i]]).tolist()\n",
    "                      for val in sublist]))\n",
    "        l_latent_movie.append(cosin_s)# cosimilarity value for test latent vs all train latent\n",
    "        \n",
    "        dict_movieid_cos = dict(zip(train_movieid_given_user_str,l_latent_movie))\n",
    "        l_sorted_s_to_l = sorted(dict_movieid_cos.items(), key=itemgetter(1))\n",
    "        \n",
    "    return [ele for ele in reversed(l_sorted_s_to_l)] "
   ]
  }
 ],
 "metadata": {
  "kernelspec": {
   "display_name": "Python 3",
   "language": "python",
   "name": "python3"
  },
  "language_info": {
   "codemirror_mode": {
    "name": "ipython",
    "version": 3
   },
   "file_extension": ".py",
   "mimetype": "text/x-python",
   "name": "python",
   "nbconvert_exporter": "python",
   "pygments_lexer": "ipython3",
   "version": "3.7.1"
  }
 },
 "nbformat": 4,
 "nbformat_minor": 2
}

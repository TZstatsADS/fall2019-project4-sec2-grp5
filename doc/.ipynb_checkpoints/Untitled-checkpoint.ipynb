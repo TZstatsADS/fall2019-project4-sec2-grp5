{
 "cells": [
  {
   "cell_type": "code",
   "execution_count": 25,
   "metadata": {},
   "outputs": [],
   "source": [
    "import pandas as pd\n",
    "import numpy as np\n",
    "#read in the data\n",
    "data = pd.read_csv(\"../data/ml-latest-small/ratings.csv\")\n",
    "\n",
    "#get the necessary dimensions\n",
    "n_users = data['userId'].nunique()\n",
    "n_movies = data['movieId'].nunique()\n",
    "fold_num = []\n",
    "i = 0\n",
    "def get_fold(data)\n",
    "    fold_num = []\n",
    "    while i<len(data):\n",
    "        for j in range(5):\n",
    "            if(i<len(data)):\n",
    "                fold_num.append(j)\n",
    "            i+=1\n",
    "    return fold_num"
   ]
  },
  {
   "cell_type": "code",
   "execution_count": 27,
   "metadata": {},
   "outputs": [],
   "source": [
    "data['fold_num'] = fold_num"
   ]
  },
  {
   "cell_type": "code",
   "execution_count": 28,
   "metadata": {},
   "outputs": [
    {
     "data": {
      "text/html": [
       "<div>\n",
       "<style scoped>\n",
       "    .dataframe tbody tr th:only-of-type {\n",
       "        vertical-align: middle;\n",
       "    }\n",
       "\n",
       "    .dataframe tbody tr th {\n",
       "        vertical-align: top;\n",
       "    }\n",
       "\n",
       "    .dataframe thead th {\n",
       "        text-align: right;\n",
       "    }\n",
       "</style>\n",
       "<table border=\"1\" class=\"dataframe\">\n",
       "  <thead>\n",
       "    <tr style=\"text-align: right;\">\n",
       "      <th></th>\n",
       "      <th>userId</th>\n",
       "      <th>movieId</th>\n",
       "      <th>rating</th>\n",
       "      <th>timestamp</th>\n",
       "      <th>fold_num</th>\n",
       "    </tr>\n",
       "  </thead>\n",
       "  <tbody>\n",
       "    <tr>\n",
       "      <th>0</th>\n",
       "      <td>1</td>\n",
       "      <td>1</td>\n",
       "      <td>4.0</td>\n",
       "      <td>964982703</td>\n",
       "      <td>0</td>\n",
       "    </tr>\n",
       "    <tr>\n",
       "      <th>1</th>\n",
       "      <td>1</td>\n",
       "      <td>3</td>\n",
       "      <td>4.0</td>\n",
       "      <td>964981247</td>\n",
       "      <td>1</td>\n",
       "    </tr>\n",
       "    <tr>\n",
       "      <th>2</th>\n",
       "      <td>1</td>\n",
       "      <td>6</td>\n",
       "      <td>4.0</td>\n",
       "      <td>964982224</td>\n",
       "      <td>2</td>\n",
       "    </tr>\n",
       "    <tr>\n",
       "      <th>3</th>\n",
       "      <td>1</td>\n",
       "      <td>47</td>\n",
       "      <td>5.0</td>\n",
       "      <td>964983815</td>\n",
       "      <td>3</td>\n",
       "    </tr>\n",
       "    <tr>\n",
       "      <th>4</th>\n",
       "      <td>1</td>\n",
       "      <td>50</td>\n",
       "      <td>5.0</td>\n",
       "      <td>964982931</td>\n",
       "      <td>4</td>\n",
       "    </tr>\n",
       "  </tbody>\n",
       "</table>\n",
       "</div>"
      ],
      "text/plain": [
       "   userId  movieId  rating  timestamp  fold_num\n",
       "0       1        1     4.0  964982703         0\n",
       "1       1        3     4.0  964981247         1\n",
       "2       1        6     4.0  964982224         2\n",
       "3       1       47     5.0  964983815         3\n",
       "4       1       50     5.0  964982931         4"
      ]
     },
     "execution_count": 28,
     "metadata": {},
     "output_type": "execute_result"
    }
   ],
   "source": [
    "def get_mat(df):\n",
    "    R = np.zeros((n_users, n_items))\n",
    "    bin_match = np.zeros((n_users, n_items)) \n",
    "    for row in df.itertuples():\n",
    "        R[row[1]-1, movieIds.index(row[2])] = row[3]\n",
    "        bin_match[row[1]-1, movieIds.index(row[2])] = int(row[5]-1)\n",
    "    return R, bin_match"
   ]
  },
  {
   "cell_type": "code",
   "execution_count": null,
   "metadata": {},
   "outputs": [],
   "source": [
    "def cv(X, K, f, lambda_):\n",
    "    df = X\n",
    "    df['fold'] = get_fold(X)\n",
    "    test_errors = []\n",
    "    train_erros = []\n",
    "    for k in range(K):\n",
    "        k_test = df[df.fold == k]\n",
    "        k_train = df[df.fold == k]\n",
    "        k_train_mat, k_train_bins = get_mat(k_train)\n",
    "        k_test_mat, k_test_bins = get_mat(k_test)\n",
    "        \n",
    "        #get the parameters\n",
    "        k_train_U, k_train_M, k_train_mu, k_train_b_u, k_train_b_i, k_train_B_i_bint= train(k_train_mat, k_train_bins, f, lamba_, 30)\n",
    "        k_train_hat = predict(k_train_U, k_train_M, k_train_mu,k_train_b_i, k_train_b_u, k_train_bin_match ,k_train_B_i_bint)\n",
    "        \n",
    "        #get training error\n",
    "        train_error = get_error(k_train, k_train_hat)\n",
    "        train_errors.append(train_error)\n",
    "        \n",
    "        #get the prediction\n",
    "        k_test_hat = predict(k_train_U, k_train_M, k_train_mu,k_train_b_i, k_train_b_u, k_train_bin_match ,k_train_B_i_bint)\n",
    "        error = get_error(k_test, k_test_hat_hat)\n",
    "        test_errors.append(error)\n",
    "        \n",
    "    return train_errors, test_errors\n",
    "        \n",
    "        "
   ]
  }
 ],
 "metadata": {
  "kernelspec": {
   "display_name": "Python 3",
   "language": "python",
   "name": "python3"
  },
  "language_info": {
   "codemirror_mode": {
    "name": "ipython",
    "version": 3
   },
   "file_extension": ".py",
   "mimetype": "text/x-python",
   "name": "python",
   "nbconvert_exporter": "python",
   "pygments_lexer": "ipython3",
   "version": "3.7.4"
  }
 },
 "nbformat": 4,
 "nbformat_minor": 2
}

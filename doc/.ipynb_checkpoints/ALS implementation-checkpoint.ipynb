{
 "cells": [
  {
   "cell_type": "code",
   "execution_count": 10,
   "metadata": {},
   "outputs": [],
   "source": [
    "import pandas as pd\n",
    "import numpy as np\n",
    "\n",
    "#read in the data\n",
    "data = pd.read_csv(\"../data/ml-latest-small/ratings.csv\")\n",
    "\n",
    "#get the necessary dimensions\n",
    "n_users = data['userId'].nunique()\n",
    "n_movies = data['movieId'].nunique()"
   ]
  },
  {
   "cell_type": "code",
   "execution_count": 24,
   "metadata": {},
   "outputs": [],
   "source": [
    "#split the data into different bins for the temporal function\n",
    "def get_bin(num):\n",
    "    #subtracts 25 because they started collecting the data 25 years after january 1970\n",
    "    return int((num)/(60*60*24*365)) - 25\n",
    "data[\"bin\"] = data[\"timestamp\"].apply(get_bin)"
   ]
  },
  {
   "cell_type": "code",
   "execution_count": 60,
   "metadata": {},
   "outputs": [],
   "source": [
    "#R matrix\n",
    "n_users = data.userId.unique().shape[0]\n",
    "n_items = data.movieId.unique().shape[0]\n",
    "movieId = sorted(data.movieId.unique())\n",
    "\n",
    "R = np.zeros((n_users, n_items))\n",
    "B = np.zeros((n_users, n_items)) #stored the bin number for each user movie pair\n",
    "for row in data.itertuples():\n",
    "    #print(row)\n",
    "    R[row[1]-1, movieId.index(row[2])] = row[3]\n",
    "    B[row[1]-1, movieId.index(row[2])] = row[5]\n",
    "\n",
    "    "
   ]
  },
  {
   "cell_type": "code",
   "execution_count": 137,
   "metadata": {},
   "outputs": [],
   "source": [
    "np.random.seed(0)\n",
    "def get_error(U,M, R, b_i, b_u , Bi_bin_t):\n",
    "    #modify this to include the biases\n",
    "    return (R - np.dot(U,M.T))\n",
    "\n",
    "def train(Mat, B, f, Lambda, n_iter):\n",
    "    R = Mat\n",
    "    # Step 1 Initialize matrix M by assigning the average rating for that movie as the first row, and small random numbers for the remaining entries.\n",
    "    M = 5 *np.random.rand(R.shape[1], f)\n",
    "    #set the first row of M as the average ratings of each movie(Probably from just the training matrix)\n",
    "    M[:,0] = R.sum(0)/(R!=0).sum(0).astype(float)\n",
    "    \n",
    "    #initialize U matrix\n",
    "    U = 5 *np.random.rand(R.shape[0], f)\n",
    "    \n",
    "    #initialize b_i = len(movies)\n",
    "    b_i = R.sum(0)/(R!=0).sum(0).astype(float) \n",
    "    #initialize bi_bin(t) = bin by number of movies. For each movie, check it's bin bias\n",
    "    \n",
    "    #initialize b_u = len(users)\n",
    "    b_u = R.sum(1)/(R!=0).sum(1).astype(float)\n",
    "    #average rating\n",
    "    mu = R.sum()/(R!=0).sum().astype(float)\n",
    "    \n",
    "    #function to minimize: sum(r_ui - ^r_ui) + lambda(b_i^2 + b_u^2+ |q|^2 + |p|^2 )\n",
    "    for epoch in range(n_iter):\n",
    "        #Step 2 Fix M, Solve U by minimizing the objective function. Function in paper, also update bu and \n",
    "        for i in range(len(U)):\n",
    "            I_i = np.nonzero(R[i,:])[0] #set of movies that user i rated\n",
    "            #print(len(I_i))\n",
    "            n_ui = len(I_i) #number of ratings user i has given matrix \n",
    "            M_Ii = M[I_i,:] #denotes the sub-matrix of M where columns j in I_i are selected\n",
    "            E = np.identity(f)\n",
    "            R_i_I = R[i,I_i]\n",
    "            U[i,:] = np.dot(np.linalg.inv(np.dot(M_Ii.T,M_Ii) + (Lambda*n_ui*E)),np.dot(R_i_I,M_Ii))\n",
    "\n",
    "        #Step 3 Fix U, solve M by minimizing the objective function similarly; \n",
    "        for j in range(len(M)):\n",
    "            I_j = np.nonzero(R[:,j])[0] #set of users that have rated movie j\n",
    "            n_mj = len(I_j) #number of ratings movie j has received \n",
    "            U_Ij = U[I_j,:] #denotes the sub-matrix of M where columns j in I_i are selected\n",
    "            E = np.identity(f)\n",
    "            R_j_I = R[I_j, j]\n",
    "            M[j,:] = np.dot(np.linalg.inv(np.dot(U_Ij.T,U_Ij) + (Lambda*n_mj*E)),np.dot(R_j_I,U_Ij))\n",
    "        #reset R\n",
    "        #R = np.dot(U, M.T)\n",
    "    #Step 4 Repeat Steps 2 and 3 until a stopping criterion is satisfied.\n",
    "    #return R, U and M\n",
    "    return np.dot(U,M.T)"
   ]
  },
  {
   "cell_type": "code",
   "execution_count": 138,
   "metadata": {},
   "outputs": [
    {
     "data": {
      "text/plain": [
       "array([[4.51342272, 3.96331536, 3.76936356, ..., 3.56748037, 3.56748037,\n",
       "        4.34488352],\n",
       "       [3.6342106 , 3.26164648, 3.14776617, ..., 3.03733029, 3.03733029,\n",
       "        3.48877487],\n",
       "       [1.32305573, 1.37847761, 1.22442083, ..., 1.56731623, 1.56731623,\n",
       "        1.66472635],\n",
       "       ...,\n",
       "       [3.29457954, 2.93800857, 2.75426003, ..., 2.75748768, 2.75748768,\n",
       "        3.32306046],\n",
       "       [3.38624005, 3.04959075, 2.93000389, ..., 2.7133109 , 2.7133109 ,\n",
       "        3.18036299],\n",
       "       [3.87298509, 3.37473961, 3.18324419, ..., 3.2185075 , 3.2185075 ,\n",
       "        3.91974041]])"
      ]
     },
     "execution_count": 138,
     "metadata": {},
     "output_type": "execute_result"
    }
   ],
   "source": [
    "train(R, B, 10, 0.2, 100)\n"
   ]
  },
  {
   "cell_type": "code",
   "execution_count": null,
   "metadata": {},
   "outputs": [],
   "source": []
  },
  {
   "cell_type": "code",
   "execution_count": null,
   "metadata": {},
   "outputs": [],
   "source": []
  },
  {
   "cell_type": "code",
   "execution_count": null,
   "metadata": {},
   "outputs": [],
   "source": []
  }
 ],
 "metadata": {
  "kernelspec": {
   "display_name": "Python 3",
   "language": "python",
   "name": "python3"
  },
  "language_info": {
   "codemirror_mode": {
    "name": "ipython",
    "version": 3
   },
   "file_extension": ".py",
   "mimetype": "text/x-python",
   "name": "python",
   "nbconvert_exporter": "python",
   "pygments_lexer": "ipython3",
   "version": "3.7.4"
  }
 },
 "nbformat": 4,
 "nbformat_minor": 2
}

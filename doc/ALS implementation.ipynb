{
 "cells": [
  {
   "cell_type": "code",
   "execution_count": 65,
   "metadata": {},
   "outputs": [],
   "source": [
    "import pandas as pd\n",
    "import numpy as np\n",
    "#read in the data\n",
    "data = pd.read_csv(\"../data/ml-latest-small/ratings.csv\")\n",
    "\n",
    "#get the necessary dimensions\n",
    "n_users = data['userId'].nunique()\n",
    "n_movies = data['movieId'].nunique()"
   ]
  },
  {
   "cell_type": "code",
   "execution_count": 66,
   "metadata": {},
   "outputs": [],
   "source": [
    "#split the data into different bins for the temporal function\n",
    "def get_bin(num):\n",
    "    #subtracts 25 because they started collecting the data 25 years after january 1970\n",
    "    return int((num)/(60*60*24*365)) - 25\n",
    "data[\"bin\"] = data[\"timestamp\"].apply(get_bin)\n",
    "data_groups = data.groupby(\"bin\")"
   ]
  },
  {
   "cell_type": "code",
   "execution_count": 136,
   "metadata": {},
   "outputs": [],
   "source": [
    "#create R matrix\n",
    "n_users = data.userId.unique().shape[0]\n",
    "n_items = data.movieId.unique().shape[0]\n",
    "movieIds = sorted(data.movieId.unique())\n",
    "\n",
    "R_init = np.zeros((n_users, n_items))\n",
    "bin_match = np.zeros((n_users, n_items)) \n",
    "\n",
    "#stored the bin number for each user movie pair\n",
    "for row in data.itertuples():\n",
    "    #print(row)\n",
    "    R_init[row[1]-1, movieIds.index(row[2])] = row[3]\n",
    "    bin_match[row[1]-1, movieIds.index(row[2])] = row[5]"
   ]
  },
  {
   "cell_type": "code",
   "execution_count": 68,
   "metadata": {},
   "outputs": [
    {
     "name": "stderr",
     "output_type": "stream",
     "text": [
      "/Library/Frameworks/Python.framework/Versions/3.7/lib/python3.7/site-packages/ipykernel_launcher.py:11: RuntimeWarning: invalid value encountered in double_scalars\n",
      "  # This is added back by InteractiveShellApp.init_path()\n"
     ]
    }
   ],
   "source": [
    "#get initial B_i_bin_t dimensions: n_bins by n_movies\n",
    "B_i_bint = np.zeros((data['bin'].nunique(),n_movies))\n",
    "for i in range(len(B_i_bint)):\n",
    "    sub_frame = data[data.bin==i+1]\n",
    "    #for movie in movieId, then access \n",
    "    count = 0\n",
    "    total = 0\n",
    "    for j in range(len(movieIds)):\n",
    "        r = sub_frame['rating'][sub_frame['movieId']==movieIds[j]].values\n",
    "        B_i_bint[i,j] = (r.sum())/((r!=0).sum()).astype(float)\n",
    "B_i_bint  = B_i_bint - (R.sum()/(R!=0).sum().astype(float))\n",
    "B_i_bint[np.isnan(B_i_bint)] = 0   \n",
    "    "
   ]
  },
  {
   "cell_type": "code",
   "execution_count": 100,
   "metadata": {},
   "outputs": [],
   "source": [
    "def get_error(R, R_hat):\n",
    "    #only for the that had ratings in the training matrix\n",
    "    mask = (R>0)\n",
    "    R_hat[mask] = 0 #set the values we don't need predictions for to 0 \n",
    "    return np.sqrt(((R - R_hat)**2).mean()) #return the RMSE\n",
    "\n",
    "def predict(U, M, mu,b_i, b_u, bin_match ,B_i_bint):\n",
    "    R = np.zeros((len(U[0]),len(M[0])))\n",
    "    for u in range(len(U[0])):#iterate over users\n",
    "        for i in range(len(M[0])):#iterate over movies\n",
    "            bin_num = int(bin_match[u,i]-1) #get the bin number for user u and movie i\n",
    "            R[u,i] = mu+b_u[u]+b_i[i]+B_i_bint[bin_num,i]+np.dot(U[:,u].T,M[:,i])\n",
    "    return R"
   ]
  },
  {
   "cell_type": "code",
   "execution_count": 141,
   "metadata": {},
   "outputs": [],
   "source": [
    "#basic ALS so far\n",
    "np.random.seed(1)\n",
    "def train(Mat, bin_match, f, lambda_, n_iter, B_i_bint):\n",
    "    R = Mat[:]\n",
    "    # Step 1 Initialize matrix M by assigning the average rating for that movie as the first row, and small random numbers for the remaining entries.\n",
    "    M = 5*np.random.rand(n_movies,f)\n",
    "    M[:,0] = R.sum(0)/(R!=0).sum(0).astype(float)\n",
    "    \n",
    "    #Randomly initialize U matrix\n",
    "    U = 5*np.random.rand(n_users,f)\n",
    "    \n",
    "    #function to minimize: sum(r_ui - ^r_ui) + lambda(b_i^2 + b_u^2+ |q|^2 + |p|^2 )\n",
    "    for epoch in range(n_iter):\n",
    "        #Step 2 Fix M, Solve U by minimizing the objective function\n",
    "        for u in range(n_users):\n",
    "            E = np.identity(f)\n",
    "            MTM = np.dot(M.T, M)\n",
    "            U[u,:] = np.linalg.solve((MTM+(lambda_*E)), np.dot(M.T, R[u,:]))\n",
    "\n",
    "        #Step 3 Fix U, solve M by minimizing the objective function similarly; \n",
    "        for m in range(n_movies):\n",
    "            UTU = np.dot(U.T, U)\n",
    "            M[m,:] = np.linalg.solve((UTU+(lambda_* np.identity(f))), np.dot(U.T, R[:,m]))\n",
    "        \n",
    "    return U, M"
   ]
  },
  {
   "cell_type": "code",
   "execution_count": null,
   "metadata": {},
   "outputs": [],
   "source": [
    "#basic ALS so far\n",
    "np.random.seed(1)\n",
    "def train(Mat, bin_match, f, lambda_, n_iter, B_i_bint):\n",
    "    R = Mat[:]\n",
    "    # Step 1 Initialize matrix M by assigning the average rating for that movie as the first row, and small random numbers for the remaining entries.\n",
    "    M = 5*np.random.rand(n_movies,f)\n",
    "    M[:,0] = R.sum(0)/(R!=0).sum(0).astype(float)\n",
    "    \n",
    "    #Randomly initialize U matrix\n",
    "    U = 5*np.random.rand(n_users,f)\n",
    "    \n",
    "    b_i = np.random.rand(n_movies) - mu #item bias len(movies)\n",
    "    b_u = np.random.rand(n_users) - mu #user bias len(users)\n",
    "    \n",
    "    \n",
    "    #function to minimize: sum(r_ui - ^r_ui) + lambda(b_i^2 + b_u^2+ |q|^2 + |p|^2 )\n",
    "    for epoch in range(n_iter):\n",
    "        #Step 2 Fix M, Solve U by minimizing the objective function\n",
    "        for u in range(n_users):\n",
    "            #E = np.identity(f)\n",
    "            E = np.identity(f+1)\n",
    "            #MTM = np.dot(M.T, M)\n",
    "            m = np.ones(n_movies)\n",
    "            M_p = np.vstack(m,M)\n",
    "            MTM_prime = np.dot(M_p.T, M_p)\n",
    "            r_u = R[u,:] - b_u[u]\n",
    "            #U[u,:] = np.linalg.solve((MTM+(lambda_*E)), np.dot(M.T, R[u,:]))\n",
    "            u_prime = np.linalg.solve((MTM_prime+(lambda_*E)), np.dot(M_p.T, R[u,:]))\n",
    "\n",
    "        #Step 3 Fix U, solve M by minimizing the objective function similarly; \n",
    "        for m in range(n_movies):\n",
    "            UTU = np.dot(U.T, U)\n",
    "            M[m,:] = np.linalg.solve((UTU+(lambda_* np.identity(f))), np.dot(U.T, R[:,m]))\n",
    "        \n",
    "    return U, M"
   ]
  },
  {
   "cell_type": "code",
   "execution_count": 146,
   "metadata": {},
   "outputs": [],
   "source": [
    "#train(Mat, bin_match, f, Lambda, n_iter, B_i_bint)\n",
    "U_hat, M_hat = train(R_init,bin_match, 50,2, 100, B_i_bint)"
   ]
  },
  {
   "cell_type": "code",
   "execution_count": 145,
   "metadata": {},
   "outputs": [
    {
     "data": {
      "text/plain": [
       "array([[ 2.83686571e+00,  9.31239696e-01,  9.65874528e-01, ...,\n",
       "        -1.24833940e-02, -1.24833940e-02, -1.92673657e-02],\n",
       "       [ 1.89397148e-01, -8.12387215e-03, -2.81088171e-02, ...,\n",
       "         5.87107758e-03,  5.87107758e-03,  1.30214295e-02],\n",
       "       [ 3.13652933e-02,  1.64029966e-02,  1.93400977e-02, ...,\n",
       "         2.37311269e-04,  2.37311269e-04, -1.87412699e-03],\n",
       "       ...,\n",
       "       [ 2.80129145e+00,  1.97075513e+00,  1.79338763e+00, ...,\n",
       "        -4.80179725e-02, -4.80179725e-02, -3.06000681e-03],\n",
       "       [ 8.27536799e-01,  6.53153855e-01,  3.06052742e-01, ...,\n",
       "         3.00966947e-04,  3.00966947e-04,  8.10575070e-04],\n",
       "       [ 8.01479163e-01,  2.70642000e+00, -2.77335493e-01, ...,\n",
       "         4.53353765e-02,  4.53353765e-02,  6.38959520e-02]])"
      ]
     },
     "execution_count": 145,
     "metadata": {},
     "output_type": "execute_result"
    }
   ],
   "source": [
    "np.dot(U_hat,M_hat.T)"
   ]
  },
  {
   "cell_type": "code",
   "execution_count": 128,
   "metadata": {},
   "outputs": [
    {
     "data": {
      "text/plain": [
       "(10, 232)"
      ]
     },
     "execution_count": 128,
     "metadata": {},
     "output_type": "execute_result"
    }
   ],
   "source": [
    "\"\"\"#alternate implementation from online resource\n",
    "\n",
    "np.random.seed(1)\n",
    "def train(Mat, bin_match, f, Lambda, n_iter, B_i_bint):\n",
    "    R = Mat[:]\n",
    "    # Step 1 Initialize matrix M by assigning the average rating for that movie as the first row, and small random numbers for the remaining entries.\n",
    "    M = 1*np.random.rand(f, R.shape[1])\n",
    "    M[0,:] = R.sum(0)/(R!=0).sum(0).astype(float)\n",
    "    \n",
    "    U = 1*np.random.rand(f, R.shape[0])#initialize U matrix\n",
    "    \n",
    "    mu = R.sum()/(R!=0).sum().astype(float)#average rating\n",
    "    b_i = (R.sum(0)/(R!=0).sum(0).astype(float)) - mu #initialize b_i = len(movies)\n",
    "    b_u = (R.sum(1)/(R!=0).sum(1).astype(float)) - mu #initialize b_u = len(users)\n",
    "    \n",
    "    #function to minimize: sum(r_ui - ^r_ui) + lambda(b_i^2 + b_u^2+ |q|^2 + |p|^2 )\n",
    "    for epoch in range(n_iter):\n",
    "        #Step 2 Fix M, Solve U by minimizing the objective function\n",
    "        for i in range(n_users):\n",
    "            I_i = np.nonzero(R[i,:])[0] #set of movies that user i rated\n",
    "            n_ui = len(I_i) #number of ratings user i has given matrix \n",
    "            M_Ii = M[:,I_i] #denotes the sub-matrix of M where rows j in I_i are selected\n",
    "            E = np.identity(f)\n",
    "            R_i_I = R[i,I_i]\n",
    "            U[:,i] = np.dot(np.linalg.inv(np.dot(M_Ii,M_Ii.T) + (Lambda*n_ui*E)),np.dot(M_Ii, R_i_I.T))\n",
    "\n",
    "        #Step 3 Fix U, solve M by minimizing the objective function similarly; \n",
    "        for j in range(n_movies):\n",
    "            I_j = np.nonzero(R[:,j])[0] #set of users that have rated movie j\n",
    "            n_mj = len(I_j) #number of ratings movie j has received \n",
    "            U_Ij = U[:,I_j] #denotes the sub-matrix of U where rows i in I_j are selected\n",
    "            R_j_I = R[I_j, j]\n",
    "            #print(U_Ij)\n",
    "            M[:,j] = np.dot(np.linalg.inv(np.dot(U_Ij,U_Ij.T) + (Lambda*n_mj*E)),np.dot(U_Ij,R_j_I.T))\n",
    "        \n",
    "        #get predictions\n",
    "        #R_hat = predict(U, M, mu,b_i, b_u, bin_match ,B_i_bint)\n",
    "    \n",
    "        #get the error\n",
    "        #error = get_error(R_hat, R)\n",
    "        #print(error)\n",
    "        \n",
    "        #b_i = b_i +  \n",
    "        #update all the biases\n",
    "        \n",
    "    #Step 4 Repeat Steps 2 and 3 until a stopping criterion is satisfied.\n",
    "    return R, U, M, b_u, b_i, B_i_bint\"\"\"\n",
    "#attempted implementation according to the paper. Runs into singulatity problems"
   ]
  },
  {
   "cell_type": "code",
   "execution_count": 127,
   "metadata": {},
   "outputs": [
    {
     "data": {
      "text/plain": [
       "(10, 232)"
      ]
     },
     "execution_count": 127,
     "metadata": {},
     "output_type": "execute_result"
    }
   ],
   "source": []
  },
  {
   "cell_type": "code",
   "execution_count": 134,
   "metadata": {},
   "outputs": [
    {
     "data": {
      "text/plain": [
       "(10, 232, 0)"
      ]
     },
     "execution_count": 134,
     "metadata": {},
     "output_type": "execute_result"
    }
   ],
   "source": []
  },
  {
   "cell_type": "code",
   "execution_count": null,
   "metadata": {},
   "outputs": [],
   "source": []
  }
 ],
 "metadata": {
  "kernelspec": {
   "display_name": "Python 3",
   "language": "python",
   "name": "python3"
  },
  "language_info": {
   "codemirror_mode": {
    "name": "ipython",
    "version": 3
   },
   "file_extension": ".py",
   "mimetype": "text/x-python",
   "name": "python",
   "nbconvert_exporter": "python",
   "pygments_lexer": "ipython3",
   "version": "3.7.4"
  }
 },
 "nbformat": 4,
 "nbformat_minor": 2
}

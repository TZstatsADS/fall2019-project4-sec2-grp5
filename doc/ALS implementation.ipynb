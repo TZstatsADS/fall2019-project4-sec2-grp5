{
 "cells": [
  {
   "cell_type": "markdown",
   "metadata": {},
   "source": [
    "## Nicole's updates\n",
    "+ cleaned the data\n",
    "+ preprocessed by creating ratings matrix\n",
    "+ Implemented ALS with user and item bias(fast matrix solutions)\n",
    "+ temporality added"
   ]
  },
  {
   "cell_type": "code",
   "execution_count": 3,
   "metadata": {},
   "outputs": [],
   "source": [
    "import pandas as pd\n",
    "import numpy as np\n",
    "#read in the data\n",
    "data = pd.read_csv(\"../data/ml-latest-small/ratings.csv\")\n",
    "\n",
    "#get the necessary dimensions\n",
    "n_users = data['userId'].nunique()\n",
    "n_movies = data['movieId'].nunique()"
   ]
  },
  {
   "cell_type": "code",
   "execution_count": 4,
   "metadata": {},
   "outputs": [],
   "source": [
    "#split the data into different bins for the temporal function\n",
    "def get_bin(num):\n",
    "    #subtracts 25 because they started collecting the data 25 years after january 1970\n",
    "    return int((num)/(60*60*24*365)) - 25\n",
    "data[\"bin\"] = data[\"timestamp\"].apply(get_bin)\n",
    "data_groups = data.groupby(\"bin\")"
   ]
  },
  {
   "cell_type": "code",
   "execution_count": 115,
   "metadata": {},
   "outputs": [],
   "source": [
    "#create R matrix\n",
    "n_users = data.userId.unique().shape[0]\n",
    "n_items = data.movieId.unique().shape[0]\n",
    "movieIds = sorted(data.movieId.unique())\n",
    "\n",
    "R_init = np.zeros((n_users, n_items))\n",
    "bin_match = np.zeros((n_users, n_items)) \n",
    "\n",
    "#stored the bin number for each user movie pair\n",
    "for row in data.itertuples():\n",
    "    R_init[row[1]-1, movieIds.index(row[2])] = row[3]\n",
    "    bin_match[row[1]-1, movieIds.index(row[2])] = row[5]-1"
   ]
  },
  {
   "cell_type": "code",
   "execution_count": 6,
   "metadata": {},
   "outputs": [
    {
     "name": "stderr",
     "output_type": "stream",
     "text": [
      "/Library/Frameworks/Python.framework/Versions/3.7/lib/python3.7/site-packages/ipykernel_launcher.py:10: RuntimeWarning: invalid value encountered in double_scalars\n",
      "  # Remove the CWD from sys.path while we load stuff.\n"
     ]
    }
   ],
   "source": [
    "#get initial B_i_bin_t dimensions: n_bins by n_movies\n",
    "B_i_bint = np.zeros((data['bin'].nunique(),n_movies))\n",
    "for i in range(len(B_i_bint)):\n",
    "    sub_frame = data[data.bin==i+1]\n",
    "    #for movie in movieId, then access \n",
    "    count = 0\n",
    "    total = 0\n",
    "    for j in range(len(movieIds)):\n",
    "        r = sub_frame['rating'][sub_frame['movieId']==movieIds[j]].values\n",
    "        B_i_bint[i,j] = (r.sum())/((r!=0).sum()).astype(float)\n",
    "B_i_bint  = B_i_bint - (R_init.sum()/(R_init!=0).sum().astype(float))\n",
    "B_i_bint[np.isnan(B_i_bint)] = 0   \n",
    "    "
   ]
  },
  {
   "cell_type": "code",
   "execution_count": 14,
   "metadata": {},
   "outputs": [],
   "source": [
    "def get_error(R, R_hat):\n",
    "    #only for the that had ratings in the training matrix\n",
    "    mask = (R>0)\n",
    "    R_hat[mask] = 0 #set the values we don't need predictions for to 0 \n",
    "    return np.sqrt(((R - R_hat)**2).mean()) #return the RMSE\n",
    "\n",
    "def predict(U, M, mu,b_i, b_u, bin_match ,B_i_bint):\n",
    "    R = np.zeros((n_users, n_movies))\n",
    "    #do we need to iterate over time as well\n",
    "    for u in range(n_users):#iterate over users\n",
    "        for i in range(n_movies):#iterate over movies\n",
    "            bin_num = int(bin_match[u,i]) #get the bin number for user u and movie i\n",
    "            R[u,i] = mu+b_u[u]+b_i[i]+B_i_bint[bin_num,i]+np.dot(U[u,:],M[i,:].T)\n",
    "    return R"
   ]
  },
  {
   "cell_type": "code",
   "execution_count": 119,
   "metadata": {},
   "outputs": [],
   "source": [
    "#alternate implementation from online resource\n",
    "np.random.seed(1)\n",
    "def train(Mat, bin_match, f, lambda_, n_iter, B_i_bint):\n",
    "    R = Mat[:]\n",
    "    # Step 1 Initialize matrix M by assigning the average rating for that movie as the first row, and small random numbers for the remaining entries.\n",
    "    M = np.random.rand(n_movies,f)\n",
    "    M[:,0] = R.sum(0)/(R!=0).sum(0).astype(float)\n",
    "    \n",
    "    U = np.random.rand(n_users,f)#initialize U matrix\n",
    "    \n",
    "    mu = R.sum()/(R!=0).sum().astype(float)#average rating\n",
    "    b_i = np.random.rand(n_movies) - mu #initialize b_i = len(movies)\n",
    "    b_u = np.random.rand(n_users) - mu #initialize b_u = len(users)\n",
    "    \n",
    "    #function to minimize: sum(r_ui - ^r_ui) + lambda(b_i^2 + b_u^2+ |q|^2 + |p|^2 )\n",
    "    for epoch in range(n_iter):\n",
    "        #Step 2 Fix M, Solve U by minimizing the objective function\n",
    "        for i in range(n_users):\n",
    "            I_i = np.nonzero(R[i,:])[0] #set of movies that user i rated\n",
    "            n_ui = len(I_i) #number of ratings user i has given \n",
    "            E = np.identity(f+1)\n",
    "            r_u = R[i,:] - b_i - mu\n",
    "            m = np.ones((n_movies,1))\n",
    "            M_p = np.concatenate((m,M),1)\n",
    "            M_Ii = M_p[I_i,:]\n",
    "            u_prime = np.linalg.solve((np.dot(M_Ii.T,M_Ii)+(lambda_*E)), np.dot(r_u[I_i],M_Ii))\n",
    "            b_u[i] = u_prime[0]\n",
    "            U[i,:] = u_prime[1:]\n",
    "           \n",
    "        #Step 3 Fix U, solve M by minimizing the objective function similarly; \n",
    "        for j in range(n_movies):\n",
    "            I_j = np.nonzero(R[:,j])[0] #set of users that rated movie j\n",
    "            n_mj = len(I_j) #number of users that rated movie j\n",
    "            #M_Ii = M[I_i,:] #denotes the sub-matrix of M where rows j in I_i are selected\n",
    "            r_j = R[:,j] - b_u - mu\n",
    "            u = np.ones((n_users,1))\n",
    "            U_p = np.concatenate((u,U),1)\n",
    "            U_Ij = U_p[I_j,:]\n",
    "            m_prime = np.linalg.solve((np.dot(U_Ij.T,U_Ij)+(lambda_*E)), np.dot(r_j[I_j],U_Ij))\n",
    "            b_i[j] = m_prime[0]\n",
    "            M[j,:] = m_prime[1:]\n",
    "            \n",
    "        for t in range(len(B_i_bint)):\n",
    "            mask = bin_match == t\n",
    "            for i in range(n_movies):\n",
    "                r_it = R[:,i][mask[:,i]]- mu - b_u[mask[:,i]] - b_i[i]- np.dot(U[mask[:,i]], M[i,:])\n",
    "                B_i_bint[t,i] = np.sum(r_it)/(len(r_it)+lambda_)                                                   \n",
    "    \n",
    "        R_hat = predict(U, M, mu,b_i, b_u, bin_match ,B_i_bint)\n",
    "        error = get_error(R, R_hat)\n",
    "        print(\"iteration: \", epoch, \"; error: \", error)\n",
    "    \n",
    "    return U, M,mu, b_u, b_i, B_i_bint\n",
    "        \n",
    "#attempted implementation according to the paper. Runs into singulatity problems"
   ]
  },
  {
   "cell_type": "code",
   "execution_count": 120,
   "metadata": {},
   "outputs": [
    {
     "name": "stdout",
     "output_type": "stream",
     "text": [
      "iteration:  0 ; error:  0.4813180482744734\n",
      "iteration:  1 ; error:  0.48141074806865386\n",
      "iteration:  2 ; error:  0.48139604862382757\n",
      "iteration:  3 ; error:  0.4813807462506248\n",
      "iteration:  4 ; error:  0.4813632555575\n",
      "iteration:  5 ; error:  0.4813495485294473\n",
      "iteration:  6 ; error:  0.4813421329178382\n",
      "iteration:  7 ; error:  0.4813395171944816\n",
      "iteration:  8 ; error:  0.48134035135433345\n",
      "iteration:  9 ; error:  0.48134393177001916\n"
     ]
    }
   ],
   "source": [
    "U_hat, M_hat, mu, b_u_hat, b_i_hat, B_i_bint_hat = train(R_init, bin_match, 50, 0.4, 10, B_i_bint)"
   ]
  },
  {
   "cell_type": "code",
   "execution_count": null,
   "metadata": {},
   "outputs": [],
   "source": [
    "def cv(dat_train, K, f, lambda_):\n",
    "    "
   ]
  }
 ],
 "metadata": {
  "kernelspec": {
   "display_name": "Python 3",
   "language": "python",
   "name": "python3"
  },
  "language_info": {
   "codemirror_mode": {
    "name": "ipython",
    "version": 3
   },
   "file_extension": ".py",
   "mimetype": "text/x-python",
   "name": "python",
   "nbconvert_exporter": "python",
   "pygments_lexer": "ipython3",
   "version": "3.7.4"
  }
 },
 "nbformat": 4,
 "nbformat_minor": 2
}

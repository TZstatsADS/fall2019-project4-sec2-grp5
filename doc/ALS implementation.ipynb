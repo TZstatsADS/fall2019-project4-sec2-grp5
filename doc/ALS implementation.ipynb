{
 "cells": [
  {
   "cell_type": "markdown",
   "metadata": {},
   "source": [
    "## Nicole's updates\n",
    "+ cleaned the data\n",
    "+ preprocessed by creating ratings matrix\n",
    "+ Implemented ALS with user and item bias(fast matrix solutions)\n",
    "+ Soon adding temporality to the mix\n",
    "+ Had run into error that was causing singular matrix error\n",
    "+ last cell has the previous implementation"
   ]
  },
  {
   "cell_type": "code",
   "execution_count": 25,
   "metadata": {},
   "outputs": [],
   "source": [
    "import pandas as pd\n",
    "import numpy as np\n",
    "#read in the data\n",
    "data = pd.read_csv(\"../data/ml-latest-small/ratings.csv\")\n",
    "\n",
    "#get the necessary dimensions\n",
    "n_users = data['userId'].nunique() #number of user\n",
    "n_movies = data['movieId'].nunique() #number of movie"
   ]
  },
  {
   "cell_type": "code",
   "execution_count": 26,
   "metadata": {},
   "outputs": [],
   "source": [
    "#split the data into different bins for the temporal function\n",
    "def get_bin(num):\n",
    "    #subtracts 25 because they started collecting the data 25 years after january 1970\n",
    "    return int((num)/(60*60*24*365)) - 25\n",
    "data[\"bin\"] = data[\"timestamp\"].apply(get_bin)\n",
    "data_groups = data.copy()\n",
    "data_groups = data_groups.groupby(\"bin\")\n"
   ]
  },
  {
   "cell_type": "code",
   "execution_count": 28,
   "metadata": {},
   "outputs": [],
   "source": [
    "#create R matrix\n",
    "n_users = data.userId.unique().shape[0]\n",
    "n_items = data.movieId.unique().shape[0]\n",
    "movieIds = sorted(data.movieId.unique())\n",
    "\n",
    "R_init = np.zeros((n_users, n_items))\n",
    "bin_match = np.zeros((n_users, n_items)) \n",
    "\n",
    "# #stored the bin number for each user movie pair\n",
    "# for row in data.itertuples():\n",
    "#     #print(row)\n",
    "#     R_init[row[1]-1, movieIds.index(row[2])] = row[3]\n",
    "#     bin_match[row[1]-1, movieIds.index(row[2])] = row[5]"
   ]
  },
  {
   "cell_type": "code",
   "execution_count": 33,
   "metadata": {},
   "outputs": [],
   "source": [
    "\n",
    "#stored the bin number for each user movie pair\n",
    "for row in data.itertuples():\n",
    "    #print(row)\n",
    "    R_init[row[1]-1, movieIds.index(row[2])] = row[3] #rating\n",
    "    bin_match[row[1]-1, movieIds.index(row[2])] = row[5] #bin"
   ]
  },
  {
   "cell_type": "code",
   "execution_count": 34,
   "metadata": {},
   "outputs": [
    {
     "name": "stderr",
     "output_type": "stream",
     "text": [
      "/anaconda3/lib/python3.7/site-packages/ipykernel_launcher.py:10: RuntimeWarning: invalid value encountered in double_scalars\n",
      "  # Remove the CWD from sys.path while we load stuff.\n"
     ]
    },
    {
     "ename": "NameError",
     "evalue": "name 'R' is not defined",
     "output_type": "error",
     "traceback": [
      "\u001b[0;31m---------------------------------------------------------------------------\u001b[0m",
      "\u001b[0;31mNameError\u001b[0m                                 Traceback (most recent call last)",
      "\u001b[0;32m<ipython-input-34-5dc44cc3450b>\u001b[0m in \u001b[0;36m<module>\u001b[0;34m\u001b[0m\n\u001b[1;32m      9\u001b[0m         \u001b[0mr\u001b[0m \u001b[0;34m=\u001b[0m \u001b[0msub_frame\u001b[0m\u001b[0;34m[\u001b[0m\u001b[0;34m'rating'\u001b[0m\u001b[0;34m]\u001b[0m\u001b[0;34m[\u001b[0m\u001b[0msub_frame\u001b[0m\u001b[0;34m[\u001b[0m\u001b[0;34m'movieId'\u001b[0m\u001b[0;34m]\u001b[0m\u001b[0;34m==\u001b[0m\u001b[0mmovieIds\u001b[0m\u001b[0;34m[\u001b[0m\u001b[0mj\u001b[0m\u001b[0;34m]\u001b[0m\u001b[0;34m]\u001b[0m\u001b[0;34m.\u001b[0m\u001b[0mvalues\u001b[0m\u001b[0;34m\u001b[0m\u001b[0;34m\u001b[0m\u001b[0m\n\u001b[1;32m     10\u001b[0m         \u001b[0mB_i_bint\u001b[0m\u001b[0;34m[\u001b[0m\u001b[0mi\u001b[0m\u001b[0;34m,\u001b[0m\u001b[0mj\u001b[0m\u001b[0;34m]\u001b[0m \u001b[0;34m=\u001b[0m \u001b[0;34m(\u001b[0m\u001b[0mr\u001b[0m\u001b[0;34m.\u001b[0m\u001b[0msum\u001b[0m\u001b[0;34m(\u001b[0m\u001b[0;34m)\u001b[0m\u001b[0;34m)\u001b[0m\u001b[0;34m/\u001b[0m\u001b[0;34m(\u001b[0m\u001b[0;34m(\u001b[0m\u001b[0mr\u001b[0m\u001b[0;34m!=\u001b[0m\u001b[0;36m0\u001b[0m\u001b[0;34m)\u001b[0m\u001b[0;34m.\u001b[0m\u001b[0msum\u001b[0m\u001b[0;34m(\u001b[0m\u001b[0;34m)\u001b[0m\u001b[0;34m)\u001b[0m\u001b[0;34m.\u001b[0m\u001b[0mastype\u001b[0m\u001b[0;34m(\u001b[0m\u001b[0mfloat\u001b[0m\u001b[0;34m)\u001b[0m\u001b[0;34m\u001b[0m\u001b[0;34m\u001b[0m\u001b[0m\n\u001b[0;32m---> 11\u001b[0;31m \u001b[0mB_i_bint\u001b[0m  \u001b[0;34m=\u001b[0m \u001b[0mB_i_bint\u001b[0m \u001b[0;34m-\u001b[0m \u001b[0;34m(\u001b[0m\u001b[0mR\u001b[0m\u001b[0;34m.\u001b[0m\u001b[0msum\u001b[0m\u001b[0;34m(\u001b[0m\u001b[0;34m)\u001b[0m\u001b[0;34m/\u001b[0m\u001b[0;34m(\u001b[0m\u001b[0mR\u001b[0m\u001b[0;34m!=\u001b[0m\u001b[0;36m0\u001b[0m\u001b[0;34m)\u001b[0m\u001b[0;34m.\u001b[0m\u001b[0msum\u001b[0m\u001b[0;34m(\u001b[0m\u001b[0;34m)\u001b[0m\u001b[0;34m.\u001b[0m\u001b[0mastype\u001b[0m\u001b[0;34m(\u001b[0m\u001b[0mfloat\u001b[0m\u001b[0;34m)\u001b[0m\u001b[0;34m)\u001b[0m\u001b[0;34m\u001b[0m\u001b[0;34m\u001b[0m\u001b[0m\n\u001b[0m\u001b[1;32m     12\u001b[0m \u001b[0mB_i_bint\u001b[0m\u001b[0;34m[\u001b[0m\u001b[0mnp\u001b[0m\u001b[0;34m.\u001b[0m\u001b[0misnan\u001b[0m\u001b[0;34m(\u001b[0m\u001b[0mB_i_bint\u001b[0m\u001b[0;34m)\u001b[0m\u001b[0;34m]\u001b[0m \u001b[0;34m=\u001b[0m \u001b[0;36m0\u001b[0m\u001b[0;34m\u001b[0m\u001b[0;34m\u001b[0m\u001b[0m\n\u001b[1;32m     13\u001b[0m \u001b[0;34m\u001b[0m\u001b[0m\n",
      "\u001b[0;31mNameError\u001b[0m: name 'R' is not defined"
     ]
    }
   ],
   "source": [
    "#get initial B_i_bin_t dimensions: n_bins by n_movies\n",
    "B_i_bint = np.zeros((data['bin'].nunique(),n_movies))\n",
    "for i in range(len(B_i_bint)):\n",
    "    sub_frame = data[data.bin==i+1]\n",
    "    #for movie in movieId, then access \n",
    "    count = 0\n",
    "    total = 0\n",
    "    for j in range(len(movieIds)):\n",
    "        r = sub_frame['rating'][sub_frame['movieId']==movieIds[j]].values\n",
    "        B_i_bint[i,j] = (r.sum())/((r!=0).sum()).astype(float)\n",
    "B_i_bint  = B_i_bint - (R.sum()/(R!=0).sum().astype(float))\n",
    "B_i_bint[np.isnan(B_i_bint)] = 0   \n",
    "    "
   ]
  },
  {
   "cell_type": "code",
   "execution_count": 100,
   "metadata": {},
   "outputs": [],
   "source": [
    "def get_error(R, R_hat):\n",
    "    #only for the that had ratings in the training matrix\n",
    "    mask = (R>0)\n",
    "    R_hat[mask] = 0 #set the values we don't need predictions for to 0 \n",
    "    return np.sqrt(((R - R_hat)**2).mean()) #return the RMSE\n",
    "\n",
    "def predict(U, M, mu,b_i, b_u, bin_match ,B_i_bint):\n",
    "    R = np.zeros((len(U[0]),len(M[0])))\n",
    "    for u in range(len(U[0])):#iterate over users\n",
    "        for i in range(len(M[0])):#iterate over movies\n",
    "            bin_num = int(bin_match[u,i]-1) #get the bin number for user u and movie i\n",
    "            R[u,i] = mu+b_u[u]+b_i[i]+B_i_bint[bin_num,i]+np.dot(U[:,u].T,M[:,i])\n",
    "    return R"
   ]
  },
  {
   "cell_type": "code",
   "execution_count": 187,
   "metadata": {},
   "outputs": [],
   "source": [
    "#basic ALS + some biases\n",
    "np.random.seed(1)\n",
    "def train(Mat, bin_match, f, lambda_, n_iter, B_i_bint):\n",
    "    R = Mat[:]\n",
    "    # Step 1 Initialize matrix M by assigning the average rating for that movie as the first row, and small random numbers for the remaining entries.\n",
    "    M = 5*np.random.rand(n_movies,f)\n",
    "    M[:,0] = R.sum(0)/(R!=0).sum(0).astype(float)\n",
    "    \n",
    "    #Randomly initialize U matrix\n",
    "    U = 5*np.random.rand(n_users,f)\n",
    "    \n",
    "    mu = R.sum()/(R!=0).sum().astype(float)#average rating\n",
    "    b_i = np.random.rand(n_movies) - mu #item bias len(movies)\n",
    "    b_u = np.random.rand(n_users) - mu #user bias len(users)\n",
    "\n",
    "    \n",
    "    #function to minimize: sum(r_ui - ^r_ui) + lambda(b_i^2 + b_u^2+ |q|^2 + |p|^2 )\n",
    "    for epoch in range(n_iter):\n",
    "        #Step 2 Fix M, Solve U by minimizing the objective function\n",
    "        for u in range(n_users):\n",
    "            #E = np.identity(f)\n",
    "            E = np.identity(f+1)\n",
    "            #MTM = np.dot(M.T, M)\n",
    "            m = np.ones((n_movies,1))\n",
    "            r_u = R[u,:] - b_i\n",
    "            M_p = np.concatenate((m,M),1)\n",
    "            MTM_prime = np.dot(M_p.T, M_p)\n",
    "            #U[u,:] = np.linalg.solve((MTM+(lambda_*E)), np.dot(M.T, R[u,:]))\n",
    "            u_prime = np.linalg.solve((MTM_prime+(lambda_*E)), np.dot(M_p.T, R[u,:]))\n",
    "            b_u[u] = u_prime[0]\n",
    "            U[u,:] = u_prime[1:]\n",
    "            \n",
    "        #Step 3 Fix U, solve M by minimizing the objective function similarly; \n",
    "        for m in range(n_movies):\n",
    "            #UTU = np.dot(U.T, U)\n",
    "            u = np.ones((n_users,1))\n",
    "            r_m = R[:,m] - b_u\n",
    "            U_p = np.concatenate((u,U),1)\n",
    "            UTU_prime = np.dot(U_p.T, U_p)\n",
    "            #M[m,:] = np.linalg.solve((UTU+(lambda_* np.identity(f))), np.dot(U.T, R[:,m]))\n",
    "            m_prime = np.linalg.solve((UTU_prime+(lambda_*E)), np.dot(U_p.T, R[:,m]))\n",
    "            b_i[m] = m_prime[0]\n",
    "            M[m,:] = m_prime[1:]\n",
    "                   \n",
    "    return U, M"
   ]
  },
  {
   "cell_type": "code",
   "execution_count": null,
   "metadata": {},
   "outputs": [],
   "source": [
    "#train(Mat, bin_match, f, Lambda, n_iter, B_i_bint)\n",
    "U_hat, M_hat = train(R_init,bin_match, 50,2, 100, B_i_bint)"
   ]
  },
  {
   "cell_type": "code",
   "execution_count": null,
   "metadata": {},
   "outputs": [],
   "source": [
    "\"\"\"#basic ALS so far\n",
    "np.random.seed(1)\n",
    "def train(Mat, bin_match, f, lambda_, n_iter, B_i_bint):\n",
    "    R = Mat[:]\n",
    "    # Step 1 Initialize matrix M by assigning the average rating for that movie as the first row, and small random numbers for the remaining entries.\n",
    "    M = 5*np.random.rand(n_movies,f)\n",
    "    M[:,0] = R.sum(0)/(R!=0).sum(0).astype(float)\n",
    "    \n",
    "    #Randomly initialize U matrix\n",
    "    U = 5*np.random.rand(n_users,f)\n",
    "    \n",
    "    #function to minimize: sum(r_ui - ^r_ui) + lambda(b_i^2 + b_u^2+ |q|^2 + |p|^2 )\n",
    "    for epoch in range(n_iter):\n",
    "        #Step 2 Fix M, Solve U by minimizing the objective function\n",
    "        for u in range(n_users):\n",
    "            E = np.identity(f)\n",
    "            MTM = np.dot(M.T, M)\n",
    "            U[u,:] = np.linalg.solve((MTM+(lambda_*E)), np.dot(M.T, R[u,:]))\n",
    "\n",
    "        #Step 3 Fix U, solve M by minimizing the objective function similarly; \n",
    "        for m in range(n_movies):\n",
    "            UTU = np.dot(U.T, U)\n",
    "            M[m,:] = np.linalg.solve((UTU+(lambda_* np.identity(f))), np.dot(U.T, R[:,m]))\n",
    "        \n",
    "    return U, M\n",
    "    \"\"\""
   ]
  },
  {
   "cell_type": "code",
   "execution_count": 128,
   "metadata": {},
   "outputs": [
    {
     "data": {
      "text/plain": [
       "(10, 232)"
      ]
     },
     "execution_count": 128,
     "metadata": {},
     "output_type": "execute_result"
    }
   ],
   "source": [
    "\"\"\"#alternate implementation from online resource\n",
    "\n",
    "np.random.seed(1)\n",
    "def train(Mat, bin_match, f, Lambda, n_iter, B_i_bint):\n",
    "    R = Mat[:]\n",
    "    # Step 1 Initialize matrix M by assigning the average rating for that movie as the first row, and small random numbers for the remaining entries.\n",
    "    M = 1*np.random.rand(f, R.shape[1])\n",
    "    M[0,:] = R.sum(0)/(R!=0).sum(0).astype(float)\n",
    "    \n",
    "    U = 1*np.random.rand(f, R.shape[0])#initialize U matrix\n",
    "    \n",
    "    mu = R.sum()/(R!=0).sum().astype(float)#average rating\n",
    "    b_i = (R.sum(0)/(R!=0).sum(0).astype(float)) - mu #initialize b_i = len(movies)\n",
    "    b_u = (R.sum(1)/(R!=0).sum(1).astype(float)) - mu #initialize b_u = len(users)\n",
    "    \n",
    "    #function to minimize: sum(r_ui - ^r_ui) + lambda(b_i^2 + b_u^2+ |q|^2 + |p|^2 )\n",
    "    for epoch in range(n_iter):\n",
    "        #Step 2 Fix M, Solve U by minimizing the objective function\n",
    "        for i in range(n_users):\n",
    "            I_i = np.nonzero(R[i,:])[0] #set of movies that user i rated\n",
    "            n_ui = len(I_i) #number of ratings user i has given matrix \n",
    "            M_Ii = M[:,I_i] #denotes the sub-matrix of M where rows j in I_i are selected\n",
    "            E = np.identity(f)\n",
    "            R_i_I = R[i,I_i]\n",
    "            U[:,i] = np.dot(np.linalg.inv(np.dot(M_Ii,M_Ii.T) + (Lambda*n_ui*E)),np.dot(M_Ii, R_i_I.T))\n",
    "\n",
    "        #Step 3 Fix U, solve M by minimizing the objective function similarly; \n",
    "        for j in range(n_movies):\n",
    "            I_j = np.nonzero(R[:,j])[0] #set of users that have rated movie j\n",
    "            n_mj = len(I_j) #number of ratings movie j has received \n",
    "            U_Ij = U[:,I_j] #denotes the sub-matrix of U where rows i in I_j are selected\n",
    "            R_j_I = R[I_j, j]\n",
    "            #print(U_Ij)\n",
    "            M[:,j] = np.dot(np.linalg.inv(np.dot(U_Ij,U_Ij.T) + (Lambda*n_mj*E)),np.dot(U_Ij,R_j_I.T))\n",
    "        \n",
    "        #get predictions\n",
    "        #R_hat = predict(U, M, mu,b_i, b_u, bin_match ,B_i_bint)\n",
    "    \n",
    "        #get the error\n",
    "        #error = get_error(R_hat, R)\n",
    "        #print(error)\n",
    "        \n",
    "        #b_i = b_i +  \n",
    "        #update all the biases\n",
    "        \n",
    "    #Step 4 Repeat Steps 2 and 3 until a stopping criterion is satisfied.\n",
    "    return R, U, M, b_u, b_i, B_i_bint\"\"\"\n",
    "#attempted implementation according to the paper. Runs into singulatity problems"
   ]
  }
 ],
 "metadata": {
  "kernelspec": {
   "display_name": "Python 3",
   "language": "python",
   "name": "python3"
  },
  "language_info": {
   "codemirror_mode": {
    "name": "ipython",
    "version": 3
   },
   "file_extension": ".py",
   "mimetype": "text/x-python",
   "name": "python",
   "nbconvert_exporter": "python",
   "pygments_lexer": "ipython3",
   "version": "3.7.1"
  }
 },
 "nbformat": 4,
 "nbformat_minor": 2
}

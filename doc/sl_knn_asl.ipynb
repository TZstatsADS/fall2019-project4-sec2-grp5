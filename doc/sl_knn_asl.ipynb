{
 "cells": [
  {
   "cell_type": "markdown",
   "metadata": {},
   "source": [
    "# Package"
   ]
  },
  {
   "cell_type": "code",
   "execution_count": 14,
   "metadata": {},
   "outputs": [],
   "source": [
    "import numpy as np\n",
    "from sklearn.metrics import pairwise_distances\n",
    "from scipy.spatial.distance import cosine"
   ]
  },
  {
   "cell_type": "code",
   "execution_count": 15,
   "metadata": {},
   "outputs": [],
   "source": [
    "import pandas as pd\n",
    "import numpy as np\n",
    "#from sklearn.neighbors import NearestNeighbors\n",
    "from numpy import array\n",
    "from numpy.linalg import norm\n",
    "\n",
    "from operator import itemgetter\n",
    "import timeit"
   ]
  },
  {
   "cell_type": "code",
   "execution_count": 16,
   "metadata": {},
   "outputs": [],
   "source": [
    "from sklearn.linear_model import LinearRegression"
   ]
  },
  {
   "cell_type": "markdown",
   "metadata": {},
   "source": [
    "# Functions\n"
   ]
  },
  {
   "cell_type": "code",
   "execution_count": 17,
   "metadata": {},
   "outputs": [],
   "source": [
    "def Average(lst): \n",
    "    return sum(lst) / len(lst) "
   ]
  },
  {
   "cell_type": "code",
   "execution_count": 18,
   "metadata": {},
   "outputs": [],
   "source": [
    "def rmse(predictions, targets):\n",
    "    return np.sqrt(((predictions - targets) ** 2).mean())"
   ]
  },
  {
   "cell_type": "code",
   "execution_count": 19,
   "metadata": {},
   "outputs": [],
   "source": [
    "def pq_check_rate(test_movie_id,df,userid):\n",
    "    \"\"\"\n",
    "    Input\n",
    "    ----\n",
    "        df: df_pq\"\"\"\n",
    "    \n",
    "    user_index = b_user_dic.get(str(userid))\n",
    "    \n",
    "    movie_index =b_item_dic.get(str(test_movie_id))\n",
    "    \n",
    "    rating_predict = df[user_index][movie_index]\n",
    "    return rating_predict"
   ]
  },
  {
   "cell_type": "code",
   "execution_count": 20,
   "metadata": {},
   "outputs": [],
   "source": [
    "def item_check_value(test_movie_id,mat):\n",
    "    \"\"\"\n",
    "    Input\n",
    "    ----\n",
    "        mat: b_item,matrix\n",
    "    Return\n",
    "    -----\n",
    "        a float\"\"\"\n",
    "    \n",
    "    #user_index = b_user_dic.get(str(userid))\n",
    "    \n",
    "    movie_index =b_item_dic.get(str(test_movie_id))\n",
    "    \n",
    "    value_predict = mat[0][movie_index]\n",
    "    return value_predict"
   ]
  },
  {
   "cell_type": "code",
   "execution_count": 21,
   "metadata": {},
   "outputs": [],
   "source": [
    "def user_check_value(userid,mat):\n",
    "    \"\"\"\n",
    "    Input\n",
    "    ----\n",
    "        mat: b_user,matrix\"\"\"\n",
    "    \n",
    "    user_index = b_user_dic.get(str(userid))\n",
    "    \n",
    "    #movie_index =b_item_dic.get(str(test_movie_id))\n",
    "    \n",
    "    value_predict = mat[0][user_index]\n",
    "    return value_predict"
   ]
  },
  {
   "cell_type": "code",
   "execution_count": 22,
   "metadata": {},
   "outputs": [],
   "source": [
    "def time_check_value(test_movie_id,df,time_bin):\n",
    "    \"\"\"\n",
    "    Input\n",
    "    ----\n",
    "        mat: b_time\"\"\"\n",
    "    #print(test_movie_id,time_bin)\n",
    "    time_index = b_time_dic.get(str(time_bin))\n",
    "    #print(time_bin,time_index)\n",
    "    \n",
    "    movie_index =b_item_dic.get(str(test_movie_id))\n",
    "    \n",
    "    \n",
    "    rating_predict = df[time_index][movie_index]\n",
    "    return rating_predict"
   ]
  },
  {
   "cell_type": "code",
   "execution_count": 23,
   "metadata": {},
   "outputs": [],
   "source": [
    "def pariwise_cosin(q):\n",
    "    \"\"\"\n",
    "    Input\n",
    "    -----\n",
    "        q: q.csv\n",
    "    Return\n",
    "    -----\n",
    "        \"\"\"\n",
    "    \n",
    "#     q_matrix = q.copy()\n",
    "#     q_matrix = q_matrix.values\n",
    "    \n",
    "#     q_knn_matrix = q_matrix.T\n",
    "    \n",
    "    return 1-pairwise_distances(q.values.T, metric=\"cosine\")"
   ]
  },
  {
   "cell_type": "code",
   "execution_count": 24,
   "metadata": {},
   "outputs": [],
   "source": [
    "def pair_cos_id (test_movie_id):\n",
    "    \"\"\"\n",
    "    Input\n",
    "    -----\n",
    "        test_movie_id:int\n",
    "        pair_cos_q: nparray, pair_cosin_q (global var)\n",
    "    Return\n",
    "    -----\n",
    "        list with index of nearst movie,id of nearest movie\"\"\"\n",
    "    test_movie_index = b_item_dic.get(str(test_movie_id))\n",
    "    df_cos = pd.DataFrame(pair_cos_q)\n",
    "    \n",
    "    \n",
    "    high_2_info = df_cos[test_movie_index].nlargest(2)\n",
    "    knn_near_index = np.where(df_cos[test_movie_index] == high_2_info.values[1])[0][0]\n",
    "    \n",
    "    #knn_movie_id = b_item_dic.get(str(test_movie_id))\n",
    "    knn_movie_id  = list(b_item_dic.keys())[list(b_item_dic.values()).index(knn_near_index)] \n",
    "    #[knn_near_index,int(knn_movie_id)]\n",
    "    return int(knn_movie_id)"
   ]
  },
  {
   "cell_type": "code",
   "execution_count": 25,
   "metadata": {},
   "outputs": [],
   "source": [
    "def avg_rating_train_look_up(movie_id_int):\n",
    "    \"\"\"\n",
    "    Global variable\n",
    "    ------\n",
    "        df_data_train:after groupby mean and reset index\n",
    "        \n",
    "    Return\n",
    "    ------\n",
    "        rating\"\"\"\n",
    "    #print(df_data_train[df_data_train['movieId'] == movie_id_int])\n",
    "    \n",
    "    return rating[rating['movieId'] == movie_id_int]['rating'].values[0]"
   ]
  },
  {
   "cell_type": "code",
   "execution_count": 26,
   "metadata": {},
   "outputs": [],
   "source": [
    "def main_get_rating_knn(test_movie_id):\n",
    "    \"\"\"\n",
    "    Global var\n",
    "    ------\n",
    "        pair_cos_q\n",
    "        df_data_train\n",
    "    \n",
    "    Return\n",
    "    -----\n",
    "        Get KNN rating \"\"\"\n",
    "    nearest_movie_id = pair_cos_id(test_movie_id)\n",
    "    #print(nearest_movie_id)\n",
    "    avg_rating_nearest_movie_id = avg_rating_train_look_up(nearest_movie_id)\n",
    "    #print(avg_rating_nearest_movie_id)\n",
    "    \n",
    "    \n",
    "    return avg_rating_nearest_movie_id\n",
    "    "
   ]
  },
  {
   "cell_type": "code",
   "execution_count": 27,
   "metadata": {},
   "outputs": [],
   "source": [
    "def b_time_user(user_id):\n",
    "    rating_user = rating[rating['userId'] == user_id]\n",
    "    rating_group = rating_user[['userId','movieId','bin_num']].values\n",
    "    \n",
    "    user_time_movie_list = []\n",
    "    for j, pair in enumerate(rating_group):\n",
    "        user_time_movie_list.append((time_check_value(pair[1],b_time,pair[2])))\n",
    "    return user_time_movie_list\n",
    "    #time_check_value(test_movie_id,df,time_bin)\n",
    "    #b_item_col_qiqi.append(b_item_col_qiqi)\n"
   ]
  },
  {
   "cell_type": "markdown",
   "metadata": {},
   "source": [
    "# Data"
   ]
  },
  {
   "cell_type": "code",
   "execution_count": 28,
   "metadata": {},
   "outputs": [],
   "source": [
    "# ################################ #sgd data\n",
    "# p = pd.read_csv('../output/p_5.csv',index_col='Unnamed: 0')\n",
    "# #rmse = pd.read_csv('../data/rmse.csv')\n",
    "# q = pd.read_csv('../output/q_5.csv',index_col='Unnamed: 0') #movie latent values\n",
    "# #rating = pd.read_csv('../data/ml-latest-small/ratings.csv')\n",
    "# rating = pd.read_csv('../output/data_bin.csv',index_col = 'Unnamed: 0')\n",
    "# data_train = pd.read_csv('../output/data_train_add.csv',index_col='Unnamed: 0')\n",
    "# data_test = pd.read_csv('../output/data_test.csv',index_col='Unnamed: 0')\n",
    "\n",
    "# b_item = pd.read_csv('../output/b_item.csv',index_col='Unnamed: 0')\n",
    "# b_time = pd.read_csv('../output/b_time.csv',index_col='Unnamed: 0')\n",
    "# b_user = pd.read_csv('../output/b_user.csv',index_col='Unnamed: 0')"
   ]
  },
  {
   "cell_type": "code",
   "execution_count": 29,
   "metadata": {},
   "outputs": [],
   "source": [
    "############################ #als data\n",
    "p = pd.read_csv('../output/P_ALS.csv',index_col='Unnamed: 0')\n",
    "#rmse = pd.read_csv('../data/rmse.csv')\n",
    "q = pd.read_csv('../output/Q_ALS.csv',index_col='Unnamed: 0') #movie latent values\n",
    "#rating = pd.read_csv('../data/ml-latest-small/ratings.csv')\n",
    "rating = pd.read_csv('../output/data_bin.csv',index_col = 'Unnamed: 0')\n",
    "data_train = pd.read_csv('../output/data_train_add.csv',index_col='Unnamed: 0')\n",
    "data_test = pd.read_csv('../output/data_test.csv',index_col='Unnamed: 0')\n",
    "\n",
    "b_item = pd.read_csv('../output/b_item_ALS.csv',index_col='Unnamed: 0')\n",
    "b_time = pd.read_csv('../output/b_time_ALS.csv',index_col='Unnamed: 0')\n",
    "b_user = pd.read_csv('../output/b_user_ALS.csv',index_col='Unnamed: 0')"
   ]
  },
  {
   "cell_type": "code",
   "execution_count": 30,
   "metadata": {},
   "outputs": [
    {
     "data": {
      "text/html": [
       "<div>\n",
       "<style scoped>\n",
       "    .dataframe tbody tr th:only-of-type {\n",
       "        vertical-align: middle;\n",
       "    }\n",
       "\n",
       "    .dataframe tbody tr th {\n",
       "        vertical-align: top;\n",
       "    }\n",
       "\n",
       "    .dataframe thead th {\n",
       "        text-align: right;\n",
       "    }\n",
       "</style>\n",
       "<table border=\"1\" class=\"dataframe\">\n",
       "  <thead>\n",
       "    <tr style=\"text-align: right;\">\n",
       "      <th></th>\n",
       "      <th>1</th>\n",
       "      <th>2</th>\n",
       "      <th>3</th>\n",
       "      <th>4</th>\n",
       "      <th>5</th>\n",
       "      <th>6</th>\n",
       "      <th>7</th>\n",
       "      <th>8</th>\n",
       "      <th>9</th>\n",
       "      <th>10</th>\n",
       "      <th>...</th>\n",
       "      <th>193565</th>\n",
       "      <th>193567</th>\n",
       "      <th>193571</th>\n",
       "      <th>193573</th>\n",
       "      <th>193579</th>\n",
       "      <th>193581</th>\n",
       "      <th>193583</th>\n",
       "      <th>193585</th>\n",
       "      <th>193587</th>\n",
       "      <th>193609</th>\n",
       "    </tr>\n",
       "  </thead>\n",
       "  <tbody>\n",
       "    <tr>\n",
       "      <td>0</td>\n",
       "      <td>-3.642852</td>\n",
       "      <td>-3.458309</td>\n",
       "      <td>-3.258477</td>\n",
       "      <td>-2.836368</td>\n",
       "      <td>-2.943978</td>\n",
       "      <td>-3.791145</td>\n",
       "      <td>-3.206189</td>\n",
       "      <td>-3.113072</td>\n",
       "      <td>-3.079577</td>\n",
       "      <td>-3.381462</td>\n",
       "      <td>...</td>\n",
       "      <td>-3.104632</td>\n",
       "      <td>-3.048401</td>\n",
       "      <td>-2.961282</td>\n",
       "      <td>-3.160862</td>\n",
       "      <td>-3.104632</td>\n",
       "      <td>-3.160862</td>\n",
       "      <td>-3.104632</td>\n",
       "      <td>-3.104632</td>\n",
       "      <td>-3.20505</td>\n",
       "      <td>-3.277837</td>\n",
       "    </tr>\n",
       "    <tr>\n",
       "      <td>1</td>\n",
       "      <td>0.077626</td>\n",
       "      <td>-0.203374</td>\n",
       "      <td>-0.298689</td>\n",
       "      <td>0.073975</td>\n",
       "      <td>-0.073602</td>\n",
       "      <td>0.049277</td>\n",
       "      <td>-0.163726</td>\n",
       "      <td>-0.000800</td>\n",
       "      <td>0.016192</td>\n",
       "      <td>0.004078</td>\n",
       "      <td>...</td>\n",
       "      <td>0.000000</td>\n",
       "      <td>0.000000</td>\n",
       "      <td>0.000000</td>\n",
       "      <td>0.000000</td>\n",
       "      <td>0.000000</td>\n",
       "      <td>0.000000</td>\n",
       "      <td>0.000000</td>\n",
       "      <td>0.000000</td>\n",
       "      <td>0.00000</td>\n",
       "      <td>0.000000</td>\n",
       "    </tr>\n",
       "  </tbody>\n",
       "</table>\n",
       "<p>2 rows × 9724 columns</p>\n",
       "</div>"
      ],
      "text/plain": [
       "          1         2         3         4         5         6         7  \\\n",
       "0 -3.642852 -3.458309 -3.258477 -2.836368 -2.943978 -3.791145 -3.206189   \n",
       "1  0.077626 -0.203374 -0.298689  0.073975 -0.073602  0.049277 -0.163726   \n",
       "\n",
       "          8         9        10  ...    193565    193567    193571    193573  \\\n",
       "0 -3.113072 -3.079577 -3.381462  ... -3.104632 -3.048401 -2.961282 -3.160862   \n",
       "1 -0.000800  0.016192  0.004078  ...  0.000000  0.000000  0.000000  0.000000   \n",
       "\n",
       "     193579    193581    193583    193585   193587    193609  \n",
       "0 -3.104632 -3.160862 -3.104632 -3.104632 -3.20505 -3.277837  \n",
       "1  0.000000  0.000000  0.000000  0.000000  0.00000  0.000000  \n",
       "\n",
       "[2 rows x 9724 columns]"
      ]
     },
     "execution_count": 30,
     "metadata": {},
     "output_type": "execute_result"
    }
   ],
   "source": [
    "b_time.head(2)#movie id,bin"
   ]
  },
  {
   "cell_type": "markdown",
   "metadata": {},
   "source": [
    "# Processing Data"
   ]
  },
  {
   "cell_type": "code",
   "execution_count": 31,
   "metadata": {},
   "outputs": [],
   "source": [
    "##calculate predict rating matrix\n",
    "b_time_dic = dict(zip(list(b_time.columns),range(len(b_time.columns)))) #id, index\n",
    "b_item_dic = dict(zip(list(b_item.columns),range(len(b_item.columns)))) #id, index\n",
    "b_user_dic = dict(zip(list(b_user.columns),range(len(b_user.columns)))) #id, index\n",
    "\n",
    "p_matrix = p.values\n",
    "q_matrix = q.values\n",
    "b_item = b_item.values\n",
    "b_time = b_time.values\n",
    "b_user = b_user.values\n"
   ]
  },
  {
   "cell_type": "code",
   "execution_count": 32,
   "metadata": {},
   "outputs": [],
   "source": [
    "mat_pq = q_matrix.T.dot(p_matrix)\n",
    "df_pq = pd.DataFrame(mat_pq)"
   ]
  },
  {
   "cell_type": "code",
   "execution_count": 33,
   "metadata": {},
   "outputs": [],
   "source": [
    "pair_cos_q = pariwise_cosin(q)"
   ]
  },
  {
   "cell_type": "code",
   "execution_count": 34,
   "metadata": {},
   "outputs": [],
   "source": [
    "data_test_sort = data_test.copy()\n",
    "data_test_sort = data_test_sort.sort_values(by=['userId'])\n",
    "\n",
    "userId = list(set(rating['userId'])) #a list of user id, int\n",
    "\n",
    "movie_id = list(q.columns[:]) #list of all movie id,str\n"
   ]
  },
  {
   "cell_type": "code",
   "execution_count": 35,
   "metadata": {},
   "outputs": [
    {
     "data": {
      "text/plain": [
       "50.07721570000001"
      ]
     },
     "execution_count": 35,
     "metadata": {},
     "output_type": "execute_result"
    }
   ],
   "source": [
    "###for loop for the KNN part, only movie id considered\n",
    "\n",
    "tic=timeit.default_timer()\n",
    "\n",
    "knn_result = []\n",
    "for i, item in enumerate(movie_id): #l_train_movie\n",
    "    #print(i,item)\n",
    "    #print(i,item,type(i),type(item)) ##0,1 int, int, index, id\n",
    "    #print(main_get_rating_knn(item),item,i)\n",
    "    knn_result.append(main_get_rating_knn(item))\n",
    "    \n",
    "\n",
    "toc=timeit.default_timer()\n",
    "toc - tic #elapsed time in seconds\n",
    "\n",
    "\n"
   ]
  },
  {
   "cell_type": "code",
   "execution_count": 36,
   "metadata": {},
   "outputs": [],
   "source": [
    "dict_knn_id_rating = dict(zip(movie_id,knn_result))"
   ]
  },
  {
   "cell_type": "code",
   "execution_count": 37,
   "metadata": {},
   "outputs": [
    {
     "data": {
      "text/plain": [
       "0.14450890000000527"
      ]
     },
     "execution_count": 37,
     "metadata": {},
     "output_type": "execute_result"
    }
   ],
   "source": [
    "#produce knn col\n",
    "tic=timeit.default_timer()\n",
    "\n",
    "rating_knn_col =[]\n",
    "for i, item in enumerate(rating['movieId']):\n",
    "    #print(i,item,type(i),type(item)) #0,1,int,int, index,id\n",
    "    #based id find rating\n",
    "    rating_knn_col.append(dict_knn_id_rating.get(str(item)))\n",
    "toc=timeit.default_timer()\n",
    "toc - tic #elapsed time in seconds\n",
    "\n"
   ]
  },
  {
   "cell_type": "code",
   "execution_count": 38,
   "metadata": {},
   "outputs": [],
   "source": [
    "rating_sub = rating[['userId','movieId','bin_num']].values\n"
   ]
  },
  {
   "cell_type": "code",
   "execution_count": 39,
   "metadata": {},
   "outputs": [
    {
     "data": {
      "text/plain": [
       "1.8990631000000349"
      ]
     },
     "execution_count": 39,
     "metadata": {},
     "output_type": "execute_result"
    }
   ],
   "source": [
    "#produce pq col\n",
    "\n",
    "tic=timeit.default_timer()\n",
    "\n",
    "search_col_result = []\n",
    "for i, group in enumerate(rating_sub):\n",
    "    search_col_result.append(pq_check_rate(group[1],df_pq,group[0]))\n",
    "    \n",
    "toc=timeit.default_timer()\n",
    "toc - tic #elapsed time in seconds\n",
    "\n"
   ]
  },
  {
   "cell_type": "code",
   "execution_count": 40,
   "metadata": {},
   "outputs": [
    {
     "data": {
      "text/plain": [
       "0.25939469999991616"
      ]
     },
     "execution_count": 40,
     "metadata": {},
     "output_type": "execute_result"
    }
   ],
   "source": [
    "#produce b_item col\n",
    "\n",
    "tic=timeit.default_timer()\n",
    "\n",
    "b_item_col = []\n",
    "for i, group in enumerate(rating_sub): #userid, movieid\n",
    "    b_item_col.append(item_check_value(group[0],b_item))\n",
    "    \n",
    "toc=timeit.default_timer()\n",
    "toc - tic #elapsed time in seconds\n"
   ]
  },
  {
   "cell_type": "code",
   "execution_count": 41,
   "metadata": {},
   "outputs": [
    {
     "data": {
      "text/plain": [
       "0.25179430000002867"
      ]
     },
     "execution_count": 41,
     "metadata": {},
     "output_type": "execute_result"
    }
   ],
   "source": [
    "#produce b_user col\n",
    "tic=timeit.default_timer()\n",
    "\n",
    "b_user_col = []\n",
    "for i, group in enumerate(rating_sub): #userid, movieid\n",
    "    b_user_col.append(user_check_value(group[0],b_user))\n",
    "    \n",
    "toc=timeit.default_timer()\n",
    "toc - tic #elapsed time in seconds\n",
    "\n"
   ]
  },
  {
   "cell_type": "code",
   "execution_count": 42,
   "metadata": {},
   "outputs": [
    {
     "data": {
      "text/plain": [
       "0.40620769999998174"
      ]
     },
     "execution_count": 42,
     "metadata": {},
     "output_type": "execute_result"
    }
   ],
   "source": [
    "#produce b_time col\n",
    "tic=timeit.default_timer()\n",
    "\n",
    "b_time_col = []\n",
    "for i, group in enumerate(rating_sub): #userid, movieid,time\n",
    "    #print(i,group,'group')\n",
    "    b_time_col.append(time_check_value(group[1],b_time,group[2]))\n",
    "    \n",
    "toc=timeit.default_timer()\n",
    "toc - tic #elapsed time in seconds\n",
    "\n",
    "\n"
   ]
  },
  {
   "cell_type": "code",
   "execution_count": 43,
   "metadata": {},
   "outputs": [],
   "source": [
    "rating_merge = rating.copy()\n",
    "rating_merge['knn'] = rating_knn_col\n",
    "rating_merge['pq'] = search_col_result\n",
    "rating_merge['b_item'] = b_item_col\n",
    "rating_merge['b_user'] = b_user_col\n",
    "rating_merge['b_time'] = b_time_col"
   ]
  },
  {
   "cell_type": "code",
   "execution_count": 44,
   "metadata": {},
   "outputs": [],
   "source": [
    "rating_merge_train = rating_merge[:80670]\n",
    "rating_merge_train.to_csv('rating_merge_train_ALS.csv')"
   ]
  },
  {
   "cell_type": "code",
   "execution_count": 45,
   "metadata": {},
   "outputs": [],
   "source": [
    "rating_merge_test = rating_merge[80670:]\n",
    "rating_merge_test.to_csv('rating_merge_test_ALS.csv')"
   ]
  },
  {
   "cell_type": "code",
   "execution_count": 46,
   "metadata": {},
   "outputs": [
    {
     "data": {
      "text/plain": [
       "True"
      ]
     },
     "execution_count": 46,
     "metadata": {},
     "output_type": "execute_result"
    }
   ],
   "source": [
    "len(rating) == len(rating_merge_test)+len(rating_merge_train)"
   ]
  },
  {
   "cell_type": "markdown",
   "metadata": {},
   "source": [
    "# check"
   ]
  },
  {
   "cell_type": "code",
   "execution_count": 47,
   "metadata": {},
   "outputs": [
    {
     "data": {
      "text/html": [
       "<div>\n",
       "<style scoped>\n",
       "    .dataframe tbody tr th:only-of-type {\n",
       "        vertical-align: middle;\n",
       "    }\n",
       "\n",
       "    .dataframe tbody tr th {\n",
       "        vertical-align: top;\n",
       "    }\n",
       "\n",
       "    .dataframe thead th {\n",
       "        text-align: right;\n",
       "    }\n",
       "</style>\n",
       "<table border=\"1\" class=\"dataframe\">\n",
       "  <thead>\n",
       "    <tr style=\"text-align: right;\">\n",
       "      <th></th>\n",
       "      <th>userId</th>\n",
       "      <th>movieId</th>\n",
       "      <th>rating</th>\n",
       "      <th>timestamp</th>\n",
       "      <th>bin_num</th>\n",
       "      <th>knn</th>\n",
       "      <th>pq</th>\n",
       "      <th>b_item</th>\n",
       "      <th>b_user</th>\n",
       "      <th>b_time</th>\n",
       "    </tr>\n",
       "  </thead>\n",
       "  <tbody>\n",
       "    <tr>\n",
       "      <td>1</td>\n",
       "      <td>1</td>\n",
       "      <td>1</td>\n",
       "      <td>4.0</td>\n",
       "      <td>964982703</td>\n",
       "      <td>5</td>\n",
       "      <td>3.5</td>\n",
       "      <td>-0.261606</td>\n",
       "      <td>1.03597</td>\n",
       "      <td>0.088535</td>\n",
       "      <td>0.075171</td>\n",
       "    </tr>\n",
       "    <tr>\n",
       "      <td>2</td>\n",
       "      <td>1</td>\n",
       "      <td>3</td>\n",
       "      <td>4.0</td>\n",
       "      <td>964981247</td>\n",
       "      <td>5</td>\n",
       "      <td>2.5</td>\n",
       "      <td>-0.454195</td>\n",
       "      <td>1.03597</td>\n",
       "      <td>0.088535</td>\n",
       "      <td>0.090249</td>\n",
       "    </tr>\n",
       "    <tr>\n",
       "      <td>3</td>\n",
       "      <td>1</td>\n",
       "      <td>6</td>\n",
       "      <td>4.0</td>\n",
       "      <td>964982224</td>\n",
       "      <td>5</td>\n",
       "      <td>4.0</td>\n",
       "      <td>-0.644210</td>\n",
       "      <td>1.03597</td>\n",
       "      <td>0.088535</td>\n",
       "      <td>0.002530</td>\n",
       "    </tr>\n",
       "    <tr>\n",
       "      <td>4</td>\n",
       "      <td>1</td>\n",
       "      <td>47</td>\n",
       "      <td>5.0</td>\n",
       "      <td>964983815</td>\n",
       "      <td>5</td>\n",
       "      <td>3.0</td>\n",
       "      <td>-0.254080</td>\n",
       "      <td>1.03597</td>\n",
       "      <td>0.088535</td>\n",
       "      <td>0.099587</td>\n",
       "    </tr>\n",
       "    <tr>\n",
       "      <td>5</td>\n",
       "      <td>1</td>\n",
       "      <td>50</td>\n",
       "      <td>5.0</td>\n",
       "      <td>964982931</td>\n",
       "      <td>5</td>\n",
       "      <td>4.0</td>\n",
       "      <td>-0.244089</td>\n",
       "      <td>1.03597</td>\n",
       "      <td>0.088535</td>\n",
       "      <td>0.089890</td>\n",
       "    </tr>\n",
       "  </tbody>\n",
       "</table>\n",
       "</div>"
      ],
      "text/plain": [
       "   userId  movieId  rating  timestamp  bin_num  knn        pq   b_item  \\\n",
       "1       1        1     4.0  964982703        5  3.5 -0.261606  1.03597   \n",
       "2       1        3     4.0  964981247        5  2.5 -0.454195  1.03597   \n",
       "3       1        6     4.0  964982224        5  4.0 -0.644210  1.03597   \n",
       "4       1       47     5.0  964983815        5  3.0 -0.254080  1.03597   \n",
       "5       1       50     5.0  964982931        5  4.0 -0.244089  1.03597   \n",
       "\n",
       "     b_user    b_time  \n",
       "1  0.088535  0.075171  \n",
       "2  0.088535  0.090249  \n",
       "3  0.088535  0.002530  \n",
       "4  0.088535  0.099587  \n",
       "5  0.088535  0.089890  "
      ]
     },
     "execution_count": 47,
     "metadata": {},
     "output_type": "execute_result"
    }
   ],
   "source": [
    "rating_merge_train.head()"
   ]
  },
  {
   "cell_type": "code",
   "execution_count": 48,
   "metadata": {},
   "outputs": [
    {
     "data": {
      "text/plain": [
       "(80670, 10)"
      ]
     },
     "execution_count": 48,
     "metadata": {},
     "output_type": "execute_result"
    }
   ],
   "source": [
    "rating_merge_train.shape"
   ]
  },
  {
   "cell_type": "code",
   "execution_count": 49,
   "metadata": {},
   "outputs": [
    {
     "data": {
      "text/html": [
       "<div>\n",
       "<style scoped>\n",
       "    .dataframe tbody tr th:only-of-type {\n",
       "        vertical-align: middle;\n",
       "    }\n",
       "\n",
       "    .dataframe tbody tr th {\n",
       "        vertical-align: top;\n",
       "    }\n",
       "\n",
       "    .dataframe thead th {\n",
       "        text-align: right;\n",
       "    }\n",
       "</style>\n",
       "<table border=\"1\" class=\"dataframe\">\n",
       "  <thead>\n",
       "    <tr style=\"text-align: right;\">\n",
       "      <th></th>\n",
       "      <th>userId</th>\n",
       "      <th>movieId</th>\n",
       "      <th>rating</th>\n",
       "      <th>timestamp</th>\n",
       "      <th>bin_num</th>\n",
       "      <th>knn</th>\n",
       "      <th>pq</th>\n",
       "      <th>b_item</th>\n",
       "      <th>b_user</th>\n",
       "      <th>b_time</th>\n",
       "    </tr>\n",
       "  </thead>\n",
       "  <tbody>\n",
       "    <tr>\n",
       "      <td>80671</td>\n",
       "      <td>509</td>\n",
       "      <td>53322</td>\n",
       "      <td>3.0</td>\n",
       "      <td>1435994136</td>\n",
       "      <td>20</td>\n",
       "      <td>1.0</td>\n",
       "      <td>0.231352</td>\n",
       "      <td>0.359473</td>\n",
       "      <td>-0.791639</td>\n",
       "      <td>-0.037405</td>\n",
       "    </tr>\n",
       "    <tr>\n",
       "      <td>80672</td>\n",
       "      <td>509</td>\n",
       "      <td>53956</td>\n",
       "      <td>3.0</td>\n",
       "      <td>1436101754</td>\n",
       "      <td>20</td>\n",
       "      <td>4.5</td>\n",
       "      <td>0.220205</td>\n",
       "      <td>0.359473</td>\n",
       "      <td>-0.791639</td>\n",
       "      <td>-0.035636</td>\n",
       "    </tr>\n",
       "    <tr>\n",
       "      <td>80673</td>\n",
       "      <td>509</td>\n",
       "      <td>53993</td>\n",
       "      <td>2.5</td>\n",
       "      <td>1435995535</td>\n",
       "      <td>20</td>\n",
       "      <td>4.0</td>\n",
       "      <td>-0.000888</td>\n",
       "      <td>0.359473</td>\n",
       "      <td>-0.791639</td>\n",
       "      <td>-0.099979</td>\n",
       "    </tr>\n",
       "    <tr>\n",
       "      <td>80674</td>\n",
       "      <td>509</td>\n",
       "      <td>54259</td>\n",
       "      <td>3.5</td>\n",
       "      <td>1436393817</td>\n",
       "      <td>20</td>\n",
       "      <td>5.0</td>\n",
       "      <td>-0.418584</td>\n",
       "      <td>0.359473</td>\n",
       "      <td>-0.791639</td>\n",
       "      <td>-0.133974</td>\n",
       "    </tr>\n",
       "    <tr>\n",
       "      <td>80675</td>\n",
       "      <td>509</td>\n",
       "      <td>54780</td>\n",
       "      <td>3.0</td>\n",
       "      <td>1435998294</td>\n",
       "      <td>20</td>\n",
       "      <td>2.0</td>\n",
       "      <td>0.014711</td>\n",
       "      <td>0.359473</td>\n",
       "      <td>-0.791639</td>\n",
       "      <td>0.068870</td>\n",
       "    </tr>\n",
       "  </tbody>\n",
       "</table>\n",
       "</div>"
      ],
      "text/plain": [
       "       userId  movieId  rating   timestamp  bin_num  knn        pq    b_item  \\\n",
       "80671     509    53322     3.0  1435994136       20  1.0  0.231352  0.359473   \n",
       "80672     509    53956     3.0  1436101754       20  4.5  0.220205  0.359473   \n",
       "80673     509    53993     2.5  1435995535       20  4.0 -0.000888  0.359473   \n",
       "80674     509    54259     3.5  1436393817       20  5.0 -0.418584  0.359473   \n",
       "80675     509    54780     3.0  1435998294       20  2.0  0.014711  0.359473   \n",
       "\n",
       "         b_user    b_time  \n",
       "80671 -0.791639 -0.037405  \n",
       "80672 -0.791639 -0.035636  \n",
       "80673 -0.791639 -0.099979  \n",
       "80674 -0.791639 -0.133974  \n",
       "80675 -0.791639  0.068870  "
      ]
     },
     "execution_count": 49,
     "metadata": {},
     "output_type": "execute_result"
    }
   ],
   "source": [
    "rating_merge_test.head()"
   ]
  },
  {
   "cell_type": "code",
   "execution_count": 50,
   "metadata": {},
   "outputs": [
    {
     "data": {
      "text/plain": [
       "['knn', 'pq', 'b_item', 'b_user', 'b_time']"
      ]
     },
     "execution_count": 50,
     "metadata": {},
     "output_type": "execute_result"
    }
   ],
   "source": [
    "x_label = list(rating_merge_test.columns[5:])\n",
    "x_label"
   ]
  },
  {
   "cell_type": "code",
   "execution_count": null,
   "metadata": {},
   "outputs": [],
   "source": []
  }
 ],
 "metadata": {
  "kernelspec": {
   "display_name": "Python 3",
   "language": "python",
   "name": "python3"
  },
  "language_info": {
   "codemirror_mode": {
    "name": "ipython",
    "version": 3
   },
   "file_extension": ".py",
   "mimetype": "text/x-python",
   "name": "python",
   "nbconvert_exporter": "python",
   "pygments_lexer": "ipython3",
   "version": "3.7.1"
  }
 },
 "nbformat": 4,
 "nbformat_minor": 2
}
